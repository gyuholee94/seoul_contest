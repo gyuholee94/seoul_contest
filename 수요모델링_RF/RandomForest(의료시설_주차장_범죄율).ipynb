{
  "nbformat": 4,
  "nbformat_minor": 0,
  "metadata": {
    "colab": {
      "name": "RandomForest(의료시설/주차장/범죄율).ipynb",
      "provenance": [],
      "collapsed_sections": []
    },
    "kernelspec": {
      "name": "python3",
      "display_name": "Python 3"
    }
  },
  "cells": [
    {
      "cell_type": "code",
      "metadata": {
        "id": "aI4rU8pRctOu",
        "outputId": "07dca9f0-1096-4562-83e7-f41c9e8c2568",
        "colab": {
          "base_uri": "https://localhost:8080/",
          "height": 54
        }
      },
      "source": [
        "# Random Forest\n",
        "import numpy as np\n",
        "import pandas as pd\n",
        "from sklearn.ensemble import RandomForestRegressor\n",
        "from sklearn.model_selection import train_test_split\n",
        "from sklearn.metrics import mean_squared_error \n",
        "from sklearn.preprocessing import MinMaxScaler\n",
        "from sklearn import svm\n",
        "from google.colab import drive\n",
        "drive.mount('/content/drive')"
      ],
      "execution_count": 86,
      "outputs": [
        {
          "output_type": "stream",
          "text": [
            "Drive already mounted at /content/drive; to attempt to forcibly remount, call drive.mount(\"/content/drive\", force_remount=True).\n"
          ],
          "name": "stdout"
        }
      ]
    },
    {
      "cell_type": "code",
      "metadata": {
        "id": "XcbEyr14B7Hg",
        "outputId": "55281948-886f-4986-940d-1244b62068b2",
        "colab": {
          "base_uri": "https://localhost:8080/",
          "height": 52
        }
      },
      "source": [
        "import sys\n",
        "print(sys.version)"
      ],
      "execution_count": 39,
      "outputs": [
        {
          "output_type": "stream",
          "text": [
            "3.6.9 (default, Jul 17 2020, 12:50:27) \n",
            "[GCC 8.4.0]\n"
          ],
          "name": "stdout"
        }
      ]
    },
    {
      "cell_type": "code",
      "metadata": {
        "id": "I4h6SrsB_MmK"
      },
      "source": [
        "pop = pd.read_csv('/content/drive/My Drive/project/seoul_contest/서울시 주민등록인구 (연령별동별) 통계.txt',header=None , sep='\\t')"
      ],
      "execution_count": 48,
      "outputs": []
    },
    {
      "cell_type": "code",
      "metadata": {
        "id": "9MnoXZPVtuOs",
        "outputId": "37cc585e-d51c-4a3c-f545-3719ef8c04ec",
        "colab": {
          "base_uri": "https://localhost:8080/",
          "height": 1000
        }
      },
      "source": [
        "!wget -O mini.sh https://repo.anaconda.com/miniconda/Miniconda3-py38_4.8.2-Linux-x86_64.sh\n",
        "!chmod +x mini.sh\n",
        "!bash ./mini.sh -b -f -p /usr/local\n",
        "!conda install -q -y --prefix /usr/local jupyter\n",
        "!python -m ipykernel install --name \"py38\" --user"
      ],
      "execution_count": 21,
      "outputs": [
        {
          "output_type": "stream",
          "text": [
            "--2020-10-03 13:53:20--  https://repo.anaconda.com/miniconda/Miniconda3-py38_4.8.2-Linux-x86_64.sh\n",
            "Resolving repo.anaconda.com (repo.anaconda.com)... 104.16.130.3, 104.16.131.3, 2606:4700::6810:8303, ...\n",
            "Connecting to repo.anaconda.com (repo.anaconda.com)|104.16.130.3|:443... connected.\n",
            "HTTP request sent, awaiting response... 200 OK\n",
            "Length: 89817099 (86M) [application/x-sh]\n",
            "Saving to: ‘mini.sh’\n",
            "\n",
            "mini.sh             100%[===================>]  85.66M   130MB/s    in 0.7s    \n",
            "\n",
            "2020-10-03 13:53:21 (130 MB/s) - ‘mini.sh’ saved [89817099/89817099]\n",
            "\n",
            "PREFIX=/usr/local\n",
            "Unpacking payload ...\n",
            "Collecting package metadata (current_repodata.json): - \b\b\\ \b\b| \b\bdone\n",
            "Solving environment: - \b\b\\ \b\b| \b\b/ \b\b- \b\b\\ \b\b| \b\b/ \b\b- \b\b\\ \b\b| \b\b/ \b\b- \b\bdone\n",
            "\n",
            "## Package Plan ##\n",
            "\n",
            "  environment location: /usr/local\n",
            "\n",
            "  added / updated specs:\n",
            "    - _libgcc_mutex==0.1=main\n",
            "    - asn1crypto==1.3.0=py38_0\n",
            "    - ca-certificates==2020.1.1=0\n",
            "    - certifi==2019.11.28=py38_0\n",
            "    - cffi==1.14.0=py38h2e261b9_0\n",
            "    - chardet==3.0.4=py38_1003\n",
            "    - conda-package-handling==1.6.0=py38h7b6447c_0\n",
            "    - conda==4.8.2=py38_0\n",
            "    - cryptography==2.8=py38h1ba5d50_0\n",
            "    - idna==2.8=py38_1000\n",
            "    - ld_impl_linux-64==2.33.1=h53a641e_7\n",
            "    - libedit==3.1.20181209=hc058e9b_0\n",
            "    - libffi==3.2.1=hd88cf55_4\n",
            "    - libgcc-ng==9.1.0=hdf63c60_0\n",
            "    - libstdcxx-ng==9.1.0=hdf63c60_0\n",
            "    - ncurses==6.2=he6710b0_0\n",
            "    - openssl==1.1.1d=h7b6447c_4\n",
            "    - pip==20.0.2=py38_1\n",
            "    - pycosat==0.6.3=py38h7b6447c_0\n",
            "    - pycparser==2.19=py_0\n",
            "    - pyopenssl==19.1.0=py38_0\n",
            "    - pysocks==1.7.1=py38_0\n",
            "    - python==3.8.1=h0371630_1\n",
            "    - readline==7.0=h7b6447c_5\n",
            "    - requests==2.22.0=py38_1\n",
            "    - ruamel_yaml==0.15.87=py38h7b6447c_0\n",
            "    - setuptools==45.2.0=py38_0\n",
            "    - six==1.14.0=py38_0\n",
            "    - sqlite==3.31.1=h7b6447c_0\n",
            "    - tk==8.6.8=hbc83047_0\n",
            "    - tqdm==4.42.1=py_0\n",
            "    - urllib3==1.25.8=py38_0\n",
            "    - wheel==0.34.2=py38_0\n",
            "    - xz==5.2.4=h14c3975_4\n",
            "    - yaml==0.1.7=had09818_2\n",
            "    - zlib==1.2.11=h7b6447c_3\n",
            "\n",
            "\n",
            "The following packages will be DOWNGRADED:\n",
            "\n",
            "  ca-certificates                               2020.7.22-0 --> 2020.1.1-0\n",
            "  certifi                                  2020.6.20-py38_0 --> 2019.11.28-py38_0\n",
            "  conda                                        4.8.5-py38_0 --> 4.8.2-py38_0\n",
            "  openssl                                 1.1.1h-h7b6447c_0 --> 1.1.1d-h7b6447c_4\n",
            "\n",
            "\n",
            "Preparing transaction: | \b\bdone\n",
            "Executing transaction: - \b\b\\ \b\bdone\n",
            "installation finished.\n",
            "WARNING:\n",
            "    You currently have a PYTHONPATH environment variable set. This may cause\n",
            "    unexpected behavior when running the Python interpreter in Miniconda3.\n",
            "    For best results, please verify that your PYTHONPATH only points to\n",
            "    directories of packages that are compatible with the Python interpreter\n",
            "    in Miniconda3: /usr/local\n",
            "Collecting package metadata (current_repodata.json): ...working... done\n",
            "Solving environment: ...working... done\n",
            "\n",
            "## Package Plan ##\n",
            "\n",
            "  environment location: /usr/local\n",
            "\n",
            "  added / updated specs:\n",
            "    - jupyter\n",
            "\n",
            "\n",
            "The following packages will be UPDATED:\n",
            "\n",
            "  ca-certificates                                2020.1.1-0 --> 2020.7.22-0\n",
            "  certifi                                 2019.11.28-py38_0 --> 2020.6.20-py38_0\n",
            "  conda                                        4.8.2-py38_0 --> 4.8.5-py38_0\n",
            "  openssl                                 1.1.1d-h7b6447c_4 --> 1.1.1h-h7b6447c_0\n",
            "\n",
            "\n",
            "Preparing transaction: ...working... done\n",
            "Verifying transaction: ...working... done\n",
            "Executing transaction: ...working... done\n",
            "Installed kernelspec py38 in /root/.local/share/jupyter/kernels/py38\n"
          ],
          "name": "stdout"
        }
      ]
    },
    {
      "cell_type": "code",
      "metadata": {
        "id": "iZOwo8OsvCTz",
        "outputId": "db9e67b4-5615-49c7-f8f5-57ba445c17ae",
        "colab": {
          "base_uri": "https://localhost:8080/",
          "height": 122
        }
      },
      "source": [
        "!jupyter kernelspec list"
      ],
      "execution_count": 22,
      "outputs": [
        {
          "output_type": "stream",
          "text": [
            "Available kernels:\n",
            "  py38       /root/.local/share/jupyter/kernels/py38\n",
            "  ir         /usr/local/share/jupyter/kernels/ir\n",
            "  python2    /usr/local/share/jupyter/kernels/python2\n",
            "  python3    /usr/local/share/jupyter/kernels/python3\n",
            "  swift      /usr/local/share/jupyter/kernels/swift\n"
          ],
          "name": "stdout"
        }
      ]
    },
    {
      "cell_type": "code",
      "metadata": {
        "id": "taLPneLjsaZp"
      },
      "source": [
        "crime = pd.read_pickle('/content/drive/My Drive/project/seoul_contest/범죄율_주차구역_동별.pkl')\n",
        "# age = pd.read_pickle('/content/drive/My Drive/project/seoul_contest/행정동별_5-14세_거주인구.pkl')\n",
        "# welfare = pd.read_pickle('/content/drive/My Drive/project/seoul_contest/복지시설(대중교통,도서관,박물관,미술관,공원)행정동별매칭.pkl')\n",
        "med = pd.read_pickle('/content/drive/My Drive/project/seoul_contest/건축대장_의료시설.pickle')\n"
      ],
      "execution_count": 33,
      "outputs": []
    },
    {
      "cell_type": "markdown",
      "metadata": {
        "id": "pzLVhSwATbk3"
      },
      "source": [
        "### 주차장 + 의료시설 + 범죄율 + 초등인구 합치기 !"
      ]
    },
    {
      "cell_type": "code",
      "metadata": {
        "id": "S6I52dSkvqi9"
      },
      "source": [
        "med.drop(['시군구명','행정동명'],axis=1,inplace=True)"
      ],
      "execution_count": 17,
      "outputs": []
    },
    {
      "cell_type": "code",
      "metadata": {
        "id": "-MypsJ4h-EtL",
        "outputId": "5e918da0-e49e-4b28-a5e0-333e5321d666",
        "colab": {
          "base_uri": "https://localhost:8080/",
          "height": 228
        }
      },
      "source": [
        "med"
      ],
      "execution_count": 32,
      "outputs": [
        {
          "output_type": "execute_result",
          "data": {
            "text/plain": [
              "15     1111051500\n",
              "0      1111053000\n",
              "1      1111054000\n",
              "2      1111055000\n",
              "3      1111056000\n",
              "          ...    \n",
              "417    1174065000\n",
              "418    1174066000\n",
              "423    1174068500\n",
              "419    1174069000\n",
              "420    1174070000\n",
              "Name: 행정동코드, Length: 425, dtype: int64"
            ]
          },
          "metadata": {
            "tags": []
          },
          "execution_count": 32
        }
      ]
    },
    {
      "cell_type": "code",
      "metadata": {
        "id": "JzBy-tT8ufoW"
      },
      "source": [
        "crime = crime['행정동코드'].sort_values()"
      ],
      "execution_count": 27,
      "outputs": []
    },
    {
      "cell_type": "code",
      "metadata": {
        "id": "VLwGHgcJ8fTw"
      },
      "source": [
        "# med = med[med['행정동코드'].sort_values()]\n",
        "med.sort_values('행정동코드',inplace=True)\n",
        "crime.sort_values('행정동코드',inplace=True)\n",
        "\n"
      ],
      "execution_count": 34,
      "outputs": []
    },
    {
      "cell_type": "code",
      "metadata": {
        "id": "Oxbc9lJ5-Qjl",
        "outputId": "642c5cc5-b4e8-49ce-c33c-a7042a58863a",
        "colab": {
          "base_uri": "https://localhost:8080/",
          "height": 345
        }
      },
      "source": [
        "crime[crime['행정동']=='신사동']"
      ],
      "execution_count": 58,
      "outputs": [
        {
          "output_type": "execute_result",
          "data": {
            "text/html": [
              "<div>\n",
              "<style scoped>\n",
              "    .dataframe tbody tr th:only-of-type {\n",
              "        vertical-align: middle;\n",
              "    }\n",
              "\n",
              "    .dataframe tbody tr th {\n",
              "        vertical-align: top;\n",
              "    }\n",
              "\n",
              "    .dataframe thead th {\n",
              "        text-align: right;\n",
              "    }\n",
              "</style>\n",
              "<table border=\"1\" class=\"dataframe\">\n",
              "  <thead>\n",
              "    <tr style=\"text-align: right;\">\n",
              "      <th></th>\n",
              "      <th>행정동코드</th>\n",
              "      <th>구+동</th>\n",
              "      <th>시군구명</th>\n",
              "      <th>행정동(제)</th>\n",
              "      <th>행정동</th>\n",
              "      <th>인구(동)</th>\n",
              "      <th>인구(구)</th>\n",
              "      <th>합계(개소)</th>\n",
              "      <th>합계(면수)</th>\n",
              "      <th>동비율</th>\n",
              "      <th>합계(발생)</th>\n",
              "      <th>합계(검거)</th>\n",
              "      <th>검거율</th>\n",
              "      <th>동(발생)</th>\n",
              "      <th>동(검거)</th>\n",
              "      <th>동(검거율)</th>\n",
              "      <th>인구대비범죄율</th>\n",
              "    </tr>\n",
              "  </thead>\n",
              "  <tbody>\n",
              "    <tr>\n",
              "      <th>333</th>\n",
              "      <td>1162068500</td>\n",
              "      <td>관악구신사동</td>\n",
              "      <td>관악구</td>\n",
              "      <td>신사동</td>\n",
              "      <td>신사동</td>\n",
              "      <td>25,976</td>\n",
              "      <td>516,318</td>\n",
              "      <td>1,883</td>\n",
              "      <td>6,704</td>\n",
              "      <td>0.050310</td>\n",
              "      <td>5328.0</td>\n",
              "      <td>3810.0</td>\n",
              "      <td>71.509009</td>\n",
              "      <td>268.052107</td>\n",
              "      <td>191.681406</td>\n",
              "      <td>0.715090</td>\n",
              "      <td>0.010319</td>\n",
              "    </tr>\n",
              "    <tr>\n",
              "      <th>359</th>\n",
              "      <td>1168051000</td>\n",
              "      <td>강남구신사동</td>\n",
              "      <td>강남구</td>\n",
              "      <td>신사동</td>\n",
              "      <td>신사동</td>\n",
              "      <td>17,270</td>\n",
              "      <td>546,158</td>\n",
              "      <td>1,167</td>\n",
              "      <td>17,424</td>\n",
              "      <td>0.031621</td>\n",
              "      <td>7304.0</td>\n",
              "      <td>5069.0</td>\n",
              "      <td>69.400329</td>\n",
              "      <td>230.958953</td>\n",
              "      <td>160.286272</td>\n",
              "      <td>0.694003</td>\n",
              "      <td>0.013373</td>\n",
              "    </tr>\n",
              "  </tbody>\n",
              "</table>\n",
              "</div>"
            ],
            "text/plain": [
              "          행정동코드     구+동 시군구명 행정동(제)  ...       동(발생)       동(검거)    동(검거율)   인구대비범죄율\n",
              "333  1162068500  관악구신사동  관악구    신사동  ...  268.052107  191.681406  0.715090  0.010319\n",
              "359  1168051000  강남구신사동  강남구    신사동  ...  230.958953  160.286272  0.694003  0.013373\n",
              "\n",
              "[2 rows x 17 columns]"
            ]
          },
          "metadata": {
            "tags": []
          },
          "execution_count": 58
        }
      ]
    },
    {
      "cell_type": "code",
      "metadata": {
        "id": "SIYNz1889ygK"
      },
      "source": [
        "age = pd.read_csv('/content/drive/My Drive/project/seoul_contest/인구 (1).csv',encoding='cp949')"
      ],
      "execution_count": 55,
      "outputs": []
    },
    {
      "cell_type": "code",
      "metadata": {
        "id": "g_QqVT90H3B2"
      },
      "source": [
        "med['구+동'] = med['시군구명']+med['행정동명']\n",
        "crime['구+동2'] = crime['시군구명']+crime['행정동(제)']"
      ],
      "execution_count": 64,
      "outputs": []
    },
    {
      "cell_type": "code",
      "metadata": {
        "id": "E8kzggR-ImjA",
        "outputId": "76f21088-5e4d-4a9b-cccd-0f38b4efbd86",
        "colab": {
          "base_uri": "https://localhost:8080/",
          "height": 586
        }
      },
      "source": [
        "med"
      ],
      "execution_count": 65,
      "outputs": [
        {
          "output_type": "execute_result",
          "data": {
            "text/html": [
              "<div>\n",
              "<style scoped>\n",
              "    .dataframe tbody tr th:only-of-type {\n",
              "        vertical-align: middle;\n",
              "    }\n",
              "\n",
              "    .dataframe tbody tr th {\n",
              "        vertical-align: top;\n",
              "    }\n",
              "\n",
              "    .dataframe thead th {\n",
              "        text-align: right;\n",
              "    }\n",
              "</style>\n",
              "<table border=\"1\" class=\"dataframe\">\n",
              "  <thead>\n",
              "    <tr style=\"text-align: right;\">\n",
              "      <th></th>\n",
              "      <th>행정동코드</th>\n",
              "      <th>시군구명</th>\n",
              "      <th>행정동명</th>\n",
              "      <th>의료시설_개수</th>\n",
              "      <th>의료시설_건축면적(㎡)</th>\n",
              "      <th>의료시설_건폐율(%)</th>\n",
              "      <th>구+동</th>\n",
              "    </tr>\n",
              "  </thead>\n",
              "  <tbody>\n",
              "    <tr>\n",
              "      <th>15</th>\n",
              "      <td>1111051500</td>\n",
              "      <td>종로구</td>\n",
              "      <td>청운효자동</td>\n",
              "      <td>1.0</td>\n",
              "      <td>0.000000</td>\n",
              "      <td>0.000000</td>\n",
              "      <td>종로구청운효자동</td>\n",
              "    </tr>\n",
              "    <tr>\n",
              "      <th>0</th>\n",
              "      <td>1111053000</td>\n",
              "      <td>종로구</td>\n",
              "      <td>사직동</td>\n",
              "      <td>2.0</td>\n",
              "      <td>104.130000</td>\n",
              "      <td>39.368600</td>\n",
              "      <td>종로구사직동</td>\n",
              "    </tr>\n",
              "    <tr>\n",
              "      <th>1</th>\n",
              "      <td>1111054000</td>\n",
              "      <td>종로구</td>\n",
              "      <td>삼청동</td>\n",
              "      <td>0.0</td>\n",
              "      <td>0.000000</td>\n",
              "      <td>0.000000</td>\n",
              "      <td>종로구삼청동</td>\n",
              "    </tr>\n",
              "    <tr>\n",
              "      <th>2</th>\n",
              "      <td>1111055000</td>\n",
              "      <td>종로구</td>\n",
              "      <td>부암동</td>\n",
              "      <td>0.0</td>\n",
              "      <td>0.000000</td>\n",
              "      <td>0.000000</td>\n",
              "      <td>종로구부암동</td>\n",
              "    </tr>\n",
              "    <tr>\n",
              "      <th>3</th>\n",
              "      <td>1111056000</td>\n",
              "      <td>종로구</td>\n",
              "      <td>평창동</td>\n",
              "      <td>1.0</td>\n",
              "      <td>2012.800000</td>\n",
              "      <td>44.220000</td>\n",
              "      <td>종로구평창동</td>\n",
              "    </tr>\n",
              "    <tr>\n",
              "      <th>...</th>\n",
              "      <td>...</td>\n",
              "      <td>...</td>\n",
              "      <td>...</td>\n",
              "      <td>...</td>\n",
              "      <td>...</td>\n",
              "      <td>...</td>\n",
              "      <td>...</td>\n",
              "    </tr>\n",
              "    <tr>\n",
              "      <th>417</th>\n",
              "      <td>1174065000</td>\n",
              "      <td>강동구</td>\n",
              "      <td>성내제2동</td>\n",
              "      <td>7.0</td>\n",
              "      <td>523.218571</td>\n",
              "      <td>46.427143</td>\n",
              "      <td>강동구성내제2동</td>\n",
              "    </tr>\n",
              "    <tr>\n",
              "      <th>418</th>\n",
              "      <td>1174066000</td>\n",
              "      <td>강동구</td>\n",
              "      <td>성내제3동</td>\n",
              "      <td>7.0</td>\n",
              "      <td>523.218571</td>\n",
              "      <td>46.427143</td>\n",
              "      <td>강동구성내제3동</td>\n",
              "    </tr>\n",
              "    <tr>\n",
              "      <th>423</th>\n",
              "      <td>1174068500</td>\n",
              "      <td>강동구</td>\n",
              "      <td>길동</td>\n",
              "      <td>9.0</td>\n",
              "      <td>734.660000</td>\n",
              "      <td>51.418478</td>\n",
              "      <td>강동구길동</td>\n",
              "    </tr>\n",
              "    <tr>\n",
              "      <th>419</th>\n",
              "      <td>1174069000</td>\n",
              "      <td>강동구</td>\n",
              "      <td>둔촌제1동</td>\n",
              "      <td>8.0</td>\n",
              "      <td>3078.785000</td>\n",
              "      <td>0.000000</td>\n",
              "      <td>강동구둔촌제1동</td>\n",
              "    </tr>\n",
              "    <tr>\n",
              "      <th>420</th>\n",
              "      <td>1174070000</td>\n",
              "      <td>강동구</td>\n",
              "      <td>둔촌제2동</td>\n",
              "      <td>8.0</td>\n",
              "      <td>3078.785000</td>\n",
              "      <td>0.000000</td>\n",
              "      <td>강동구둔촌제2동</td>\n",
              "    </tr>\n",
              "  </tbody>\n",
              "</table>\n",
              "<p>425 rows × 7 columns</p>\n",
              "</div>"
            ],
            "text/plain": [
              "          행정동코드 시군구명   행정동명  의료시설_개수  의료시설_건축면적(㎡)  의료시설_건폐율(%)       구+동\n",
              "15   1111051500  종로구  청운효자동      1.0      0.000000     0.000000  종로구청운효자동\n",
              "0    1111053000  종로구    사직동      2.0    104.130000    39.368600    종로구사직동\n",
              "1    1111054000  종로구    삼청동      0.0      0.000000     0.000000    종로구삼청동\n",
              "2    1111055000  종로구    부암동      0.0      0.000000     0.000000    종로구부암동\n",
              "3    1111056000  종로구    평창동      1.0   2012.800000    44.220000    종로구평창동\n",
              "..          ...  ...    ...      ...           ...          ...       ...\n",
              "417  1174065000  강동구  성내제2동      7.0    523.218571    46.427143  강동구성내제2동\n",
              "418  1174066000  강동구  성내제3동      7.0    523.218571    46.427143  강동구성내제3동\n",
              "423  1174068500  강동구     길동      9.0    734.660000    51.418478     강동구길동\n",
              "419  1174069000  강동구  둔촌제1동      8.0   3078.785000     0.000000  강동구둔촌제1동\n",
              "420  1174070000  강동구  둔촌제2동      8.0   3078.785000     0.000000  강동구둔촌제2동\n",
              "\n",
              "[425 rows x 7 columns]"
            ]
          },
          "metadata": {
            "tags": []
          },
          "execution_count": 65
        }
      ]
    },
    {
      "cell_type": "code",
      "metadata": {
        "id": "JaIYW9QlGuGv",
        "outputId": "f5fb8766-7e6d-4af7-c196-1b42aababbe0",
        "colab": {
          "base_uri": "https://localhost:8080/",
          "height": 402
        }
      },
      "source": [
        "age['구+동'] = age['자치구']+age['동']\n",
        "age"
      ],
      "execution_count": 59,
      "outputs": [
        {
          "output_type": "execute_result",
          "data": {
            "text/html": [
              "<div>\n",
              "<style scoped>\n",
              "    .dataframe tbody tr th:only-of-type {\n",
              "        vertical-align: middle;\n",
              "    }\n",
              "\n",
              "    .dataframe tbody tr th {\n",
              "        vertical-align: top;\n",
              "    }\n",
              "\n",
              "    .dataframe thead th {\n",
              "        text-align: right;\n",
              "    }\n",
              "</style>\n",
              "<table border=\"1\" class=\"dataframe\">\n",
              "  <thead>\n",
              "    <tr style=\"text-align: right;\">\n",
              "      <th></th>\n",
              "      <th>자치구</th>\n",
              "      <th>동</th>\n",
              "      <th>합</th>\n",
              "      <th>구+동</th>\n",
              "    </tr>\n",
              "  </thead>\n",
              "  <tbody>\n",
              "    <tr>\n",
              "      <th>0</th>\n",
              "      <td>종로구</td>\n",
              "      <td>사직동</td>\n",
              "      <td>715</td>\n",
              "      <td>종로구사직동</td>\n",
              "    </tr>\n",
              "    <tr>\n",
              "      <th>1</th>\n",
              "      <td>종로구</td>\n",
              "      <td>삼청동</td>\n",
              "      <td>204</td>\n",
              "      <td>종로구삼청동</td>\n",
              "    </tr>\n",
              "    <tr>\n",
              "      <th>2</th>\n",
              "      <td>종로구</td>\n",
              "      <td>부암동</td>\n",
              "      <td>805</td>\n",
              "      <td>종로구부암동</td>\n",
              "    </tr>\n",
              "    <tr>\n",
              "      <th>3</th>\n",
              "      <td>종로구</td>\n",
              "      <td>평창동</td>\n",
              "      <td>1,425</td>\n",
              "      <td>종로구평창동</td>\n",
              "    </tr>\n",
              "    <tr>\n",
              "      <th>4</th>\n",
              "      <td>종로구</td>\n",
              "      <td>무악동</td>\n",
              "      <td>920</td>\n",
              "      <td>종로구무악동</td>\n",
              "    </tr>\n",
              "    <tr>\n",
              "      <th>...</th>\n",
              "      <td>...</td>\n",
              "      <td>...</td>\n",
              "      <td>...</td>\n",
              "      <td>...</td>\n",
              "    </tr>\n",
              "    <tr>\n",
              "      <th>420</th>\n",
              "      <td>강동구</td>\n",
              "      <td>둔촌1동</td>\n",
              "      <td>11</td>\n",
              "      <td>강동구둔촌1동</td>\n",
              "    </tr>\n",
              "    <tr>\n",
              "      <th>421</th>\n",
              "      <td>강동구</td>\n",
              "      <td>둔촌2동</td>\n",
              "      <td>2,060</td>\n",
              "      <td>강동구둔촌2동</td>\n",
              "    </tr>\n",
              "    <tr>\n",
              "      <th>422</th>\n",
              "      <td>강동구</td>\n",
              "      <td>암사1동</td>\n",
              "      <td>2,468</td>\n",
              "      <td>강동구암사1동</td>\n",
              "    </tr>\n",
              "    <tr>\n",
              "      <th>423</th>\n",
              "      <td>강동구</td>\n",
              "      <td>천호2동</td>\n",
              "      <td>1,755</td>\n",
              "      <td>강동구천호2동</td>\n",
              "    </tr>\n",
              "    <tr>\n",
              "      <th>424</th>\n",
              "      <td>강동구</td>\n",
              "      <td>길동</td>\n",
              "      <td>2,798</td>\n",
              "      <td>강동구길동</td>\n",
              "    </tr>\n",
              "  </tbody>\n",
              "</table>\n",
              "<p>425 rows × 4 columns</p>\n",
              "</div>"
            ],
            "text/plain": [
              "     자치구     동      합      구+동\n",
              "0    종로구   사직동    715   종로구사직동\n",
              "1    종로구   삼청동    204   종로구삼청동\n",
              "2    종로구   부암동    805   종로구부암동\n",
              "3    종로구   평창동  1,425   종로구평창동\n",
              "4    종로구   무악동    920   종로구무악동\n",
              "..   ...   ...    ...      ...\n",
              "420  강동구  둔촌1동     11  강동구둔촌1동\n",
              "421  강동구  둔촌2동  2,060  강동구둔촌2동\n",
              "422  강동구  암사1동  2,468  강동구암사1동\n",
              "423  강동구  천호2동  1,755  강동구천호2동\n",
              "424  강동구    길동  2,798    강동구길동\n",
              "\n",
              "[425 rows x 4 columns]"
            ]
          },
          "metadata": {
            "tags": []
          },
          "execution_count": 59
        }
      ]
    },
    {
      "cell_type": "code",
      "metadata": {
        "id": "buQSFYWtvwKm",
        "outputId": "3fa5b674-be18-4ce9-b016-a86f3e98b0fc",
        "colab": {
          "base_uri": "https://localhost:8080/",
          "height": 1000
        }
      },
      "source": [
        "df = pd.merge(med.set_index('구+동'),crime.set_index('구+동2'),left_index=True,right_index=True)\n",
        "# all_m = pd.merge(w.set_index('행정동코드'),whole.set_index('행정동코드'),how='outer',left_index=True,right_index=True)\n",
        "df"
      ],
      "execution_count": 66,
      "outputs": [
        {
          "output_type": "execute_result",
          "data": {
            "text/html": [
              "<div>\n",
              "<style scoped>\n",
              "    .dataframe tbody tr th:only-of-type {\n",
              "        vertical-align: middle;\n",
              "    }\n",
              "\n",
              "    .dataframe tbody tr th {\n",
              "        vertical-align: top;\n",
              "    }\n",
              "\n",
              "    .dataframe thead th {\n",
              "        text-align: right;\n",
              "    }\n",
              "</style>\n",
              "<table border=\"1\" class=\"dataframe\">\n",
              "  <thead>\n",
              "    <tr style=\"text-align: right;\">\n",
              "      <th></th>\n",
              "      <th>행정동코드_x</th>\n",
              "      <th>시군구명_x</th>\n",
              "      <th>행정동명</th>\n",
              "      <th>의료시설_개수</th>\n",
              "      <th>의료시설_건축면적(㎡)</th>\n",
              "      <th>의료시설_건폐율(%)</th>\n",
              "      <th>행정동코드_y</th>\n",
              "      <th>구+동</th>\n",
              "      <th>시군구명_y</th>\n",
              "      <th>행정동(제)</th>\n",
              "      <th>행정동</th>\n",
              "      <th>인구(동)</th>\n",
              "      <th>인구(구)</th>\n",
              "      <th>합계(개소)</th>\n",
              "      <th>합계(면수)</th>\n",
              "      <th>동비율</th>\n",
              "      <th>합계(발생)</th>\n",
              "      <th>합계(검거)</th>\n",
              "      <th>검거율</th>\n",
              "      <th>동(발생)</th>\n",
              "      <th>동(검거)</th>\n",
              "      <th>동(검거율)</th>\n",
              "      <th>인구대비범죄율</th>\n",
              "    </tr>\n",
              "  </thead>\n",
              "  <tbody>\n",
              "    <tr>\n",
              "      <th>종로구청운효자동</th>\n",
              "      <td>1111051500</td>\n",
              "      <td>종로구</td>\n",
              "      <td>청운효자동</td>\n",
              "      <td>1.0</td>\n",
              "      <td>0.000000</td>\n",
              "      <td>0.000000</td>\n",
              "      <td>1111051500</td>\n",
              "      <td>종로구청운효자동</td>\n",
              "      <td>종로구</td>\n",
              "      <td>청운효자동</td>\n",
              "      <td>청운효자동</td>\n",
              "      <td>12,855</td>\n",
              "      <td>160,520</td>\n",
              "      <td>668</td>\n",
              "      <td>4,774</td>\n",
              "      <td>0.080083</td>\n",
              "      <td>3846.0</td>\n",
              "      <td>4117.0</td>\n",
              "      <td>107.046282</td>\n",
              "      <td>308.001059</td>\n",
              "      <td>329.703682</td>\n",
              "      <td>1.070463</td>\n",
              "      <td>0.023960</td>\n",
              "    </tr>\n",
              "    <tr>\n",
              "      <th>종로구사직동</th>\n",
              "      <td>1111053000</td>\n",
              "      <td>종로구</td>\n",
              "      <td>사직동</td>\n",
              "      <td>2.0</td>\n",
              "      <td>104.130000</td>\n",
              "      <td>39.368600</td>\n",
              "      <td>1111053000</td>\n",
              "      <td>종로구사직동</td>\n",
              "      <td>종로구</td>\n",
              "      <td>사직동</td>\n",
              "      <td>사직동</td>\n",
              "      <td>9,787</td>\n",
              "      <td>160,520</td>\n",
              "      <td>360</td>\n",
              "      <td>14,217</td>\n",
              "      <td>0.060971</td>\n",
              "      <td>3846.0</td>\n",
              "      <td>4117.0</td>\n",
              "      <td>107.046282</td>\n",
              "      <td>234.492911</td>\n",
              "      <td>251.015942</td>\n",
              "      <td>1.070463</td>\n",
              "      <td>0.023960</td>\n",
              "    </tr>\n",
              "    <tr>\n",
              "      <th>종로구삼청동</th>\n",
              "      <td>1111054000</td>\n",
              "      <td>종로구</td>\n",
              "      <td>삼청동</td>\n",
              "      <td>0.0</td>\n",
              "      <td>0.000000</td>\n",
              "      <td>0.000000</td>\n",
              "      <td>1111054000</td>\n",
              "      <td>종로구삼청동</td>\n",
              "      <td>종로구</td>\n",
              "      <td>삼청동</td>\n",
              "      <td>삼청동</td>\n",
              "      <td>2,973</td>\n",
              "      <td>160,520</td>\n",
              "      <td>169</td>\n",
              "      <td>1,853</td>\n",
              "      <td>0.018521</td>\n",
              "      <td>3846.0</td>\n",
              "      <td>4117.0</td>\n",
              "      <td>107.046282</td>\n",
              "      <td>71.231984</td>\n",
              "      <td>76.251190</td>\n",
              "      <td>1.070463</td>\n",
              "      <td>0.023960</td>\n",
              "    </tr>\n",
              "    <tr>\n",
              "      <th>종로구부암동</th>\n",
              "      <td>1111055000</td>\n",
              "      <td>종로구</td>\n",
              "      <td>부암동</td>\n",
              "      <td>0.0</td>\n",
              "      <td>0.000000</td>\n",
              "      <td>0.000000</td>\n",
              "      <td>1111055000</td>\n",
              "      <td>종로구부암동</td>\n",
              "      <td>종로구</td>\n",
              "      <td>부암동</td>\n",
              "      <td>부암동</td>\n",
              "      <td>10,421</td>\n",
              "      <td>160,520</td>\n",
              "      <td>596</td>\n",
              "      <td>3,474</td>\n",
              "      <td>0.064920</td>\n",
              "      <td>3846.0</td>\n",
              "      <td>4117.0</td>\n",
              "      <td>107.046282</td>\n",
              "      <td>249.683317</td>\n",
              "      <td>267.276707</td>\n",
              "      <td>1.070463</td>\n",
              "      <td>0.023960</td>\n",
              "    </tr>\n",
              "    <tr>\n",
              "      <th>종로구평창동</th>\n",
              "      <td>1111056000</td>\n",
              "      <td>종로구</td>\n",
              "      <td>평창동</td>\n",
              "      <td>1.0</td>\n",
              "      <td>2012.800000</td>\n",
              "      <td>44.220000</td>\n",
              "      <td>1111056000</td>\n",
              "      <td>종로구평창동</td>\n",
              "      <td>종로구</td>\n",
              "      <td>평창동</td>\n",
              "      <td>평창동</td>\n",
              "      <td>18,696</td>\n",
              "      <td>160,520</td>\n",
              "      <td>1,600</td>\n",
              "      <td>9,620</td>\n",
              "      <td>0.116471</td>\n",
              "      <td>3846.0</td>\n",
              "      <td>4117.0</td>\n",
              "      <td>107.046282</td>\n",
              "      <td>447.949265</td>\n",
              "      <td>479.513033</td>\n",
              "      <td>1.070463</td>\n",
              "      <td>0.023960</td>\n",
              "    </tr>\n",
              "    <tr>\n",
              "      <th>...</th>\n",
              "      <td>...</td>\n",
              "      <td>...</td>\n",
              "      <td>...</td>\n",
              "      <td>...</td>\n",
              "      <td>...</td>\n",
              "      <td>...</td>\n",
              "      <td>...</td>\n",
              "      <td>...</td>\n",
              "      <td>...</td>\n",
              "      <td>...</td>\n",
              "      <td>...</td>\n",
              "      <td>...</td>\n",
              "      <td>...</td>\n",
              "      <td>...</td>\n",
              "      <td>...</td>\n",
              "      <td>...</td>\n",
              "      <td>...</td>\n",
              "      <td>...</td>\n",
              "      <td>...</td>\n",
              "      <td>...</td>\n",
              "      <td>...</td>\n",
              "      <td>...</td>\n",
              "      <td>...</td>\n",
              "    </tr>\n",
              "    <tr>\n",
              "      <th>강동구성내제2동</th>\n",
              "      <td>1174065000</td>\n",
              "      <td>강동구</td>\n",
              "      <td>성내제2동</td>\n",
              "      <td>7.0</td>\n",
              "      <td>523.218571</td>\n",
              "      <td>46.427143</td>\n",
              "      <td>1174065000</td>\n",
              "      <td>강동구성내2동</td>\n",
              "      <td>강동구</td>\n",
              "      <td>성내제2동</td>\n",
              "      <td>성내2동</td>\n",
              "      <td>25,096</td>\n",
              "      <td>461,547</td>\n",
              "      <td>1,935</td>\n",
              "      <td>9,139</td>\n",
              "      <td>0.054374</td>\n",
              "      <td>4014.0</td>\n",
              "      <td>2955.0</td>\n",
              "      <td>73.617339</td>\n",
              "      <td>218.255874</td>\n",
              "      <td>160.674168</td>\n",
              "      <td>0.736173</td>\n",
              "      <td>0.008697</td>\n",
              "    </tr>\n",
              "    <tr>\n",
              "      <th>강동구성내제3동</th>\n",
              "      <td>1174066000</td>\n",
              "      <td>강동구</td>\n",
              "      <td>성내제3동</td>\n",
              "      <td>7.0</td>\n",
              "      <td>523.218571</td>\n",
              "      <td>46.427143</td>\n",
              "      <td>1174066000</td>\n",
              "      <td>강동구성내3동</td>\n",
              "      <td>강동구</td>\n",
              "      <td>성내제3동</td>\n",
              "      <td>성내3동</td>\n",
              "      <td>23,824</td>\n",
              "      <td>461,547</td>\n",
              "      <td>1,431</td>\n",
              "      <td>11,090</td>\n",
              "      <td>0.051618</td>\n",
              "      <td>4014.0</td>\n",
              "      <td>2955.0</td>\n",
              "      <td>73.617339</td>\n",
              "      <td>207.193495</td>\n",
              "      <td>152.530338</td>\n",
              "      <td>0.736173</td>\n",
              "      <td>0.008697</td>\n",
              "    </tr>\n",
              "    <tr>\n",
              "      <th>강동구길동</th>\n",
              "      <td>1174068500</td>\n",
              "      <td>강동구</td>\n",
              "      <td>길동</td>\n",
              "      <td>9.0</td>\n",
              "      <td>734.660000</td>\n",
              "      <td>51.418478</td>\n",
              "      <td>1174068500</td>\n",
              "      <td>강동구길동</td>\n",
              "      <td>강동구</td>\n",
              "      <td>길동</td>\n",
              "      <td>길동</td>\n",
              "      <td>46,950</td>\n",
              "      <td>461,547</td>\n",
              "      <td>2,032</td>\n",
              "      <td>24,822</td>\n",
              "      <td>0.101723</td>\n",
              "      <td>4014.0</td>\n",
              "      <td>2955.0</td>\n",
              "      <td>73.617339</td>\n",
              "      <td>408.316596</td>\n",
              "      <td>300.591814</td>\n",
              "      <td>0.736173</td>\n",
              "      <td>0.008697</td>\n",
              "    </tr>\n",
              "    <tr>\n",
              "      <th>강동구둔촌제1동</th>\n",
              "      <td>1174069000</td>\n",
              "      <td>강동구</td>\n",
              "      <td>둔촌제1동</td>\n",
              "      <td>8.0</td>\n",
              "      <td>3078.785000</td>\n",
              "      <td>0.000000</td>\n",
              "      <td>1174069000</td>\n",
              "      <td>강동구둔촌1동</td>\n",
              "      <td>강동구</td>\n",
              "      <td>둔촌제1동</td>\n",
              "      <td>둔촌1동</td>\n",
              "      <td>274</td>\n",
              "      <td>461,547</td>\n",
              "      <td>21</td>\n",
              "      <td>388</td>\n",
              "      <td>0.000594</td>\n",
              "      <td>4014.0</td>\n",
              "      <td>2955.0</td>\n",
              "      <td>73.617339</td>\n",
              "      <td>2.382934</td>\n",
              "      <td>1.754253</td>\n",
              "      <td>0.736173</td>\n",
              "      <td>0.008697</td>\n",
              "    </tr>\n",
              "    <tr>\n",
              "      <th>강동구둔촌제2동</th>\n",
              "      <td>1174070000</td>\n",
              "      <td>강동구</td>\n",
              "      <td>둔촌제2동</td>\n",
              "      <td>8.0</td>\n",
              "      <td>3078.785000</td>\n",
              "      <td>0.000000</td>\n",
              "      <td>1174070000</td>\n",
              "      <td>강동구둔촌2동</td>\n",
              "      <td>강동구</td>\n",
              "      <td>둔촌제2동</td>\n",
              "      <td>둔촌2동</td>\n",
              "      <td>27,292</td>\n",
              "      <td>461,547</td>\n",
              "      <td>1,116</td>\n",
              "      <td>16,644</td>\n",
              "      <td>0.059132</td>\n",
              "      <td>4014.0</td>\n",
              "      <td>2955.0</td>\n",
              "      <td>73.617339</td>\n",
              "      <td>237.354133</td>\n",
              "      <td>174.733797</td>\n",
              "      <td>0.736173</td>\n",
              "      <td>0.008697</td>\n",
              "    </tr>\n",
              "  </tbody>\n",
              "</table>\n",
              "<p>425 rows × 23 columns</p>\n",
              "</div>"
            ],
            "text/plain": [
              "             행정동코드_x 시군구명_x   행정동명  ...       동(검거)    동(검거율)   인구대비범죄율\n",
              "종로구청운효자동  1111051500    종로구  청운효자동  ...  329.703682  1.070463  0.023960\n",
              "종로구사직동    1111053000    종로구    사직동  ...  251.015942  1.070463  0.023960\n",
              "종로구삼청동    1111054000    종로구    삼청동  ...   76.251190  1.070463  0.023960\n",
              "종로구부암동    1111055000    종로구    부암동  ...  267.276707  1.070463  0.023960\n",
              "종로구평창동    1111056000    종로구    평창동  ...  479.513033  1.070463  0.023960\n",
              "...              ...    ...    ...  ...         ...       ...       ...\n",
              "강동구성내제2동  1174065000    강동구  성내제2동  ...  160.674168  0.736173  0.008697\n",
              "강동구성내제3동  1174066000    강동구  성내제3동  ...  152.530338  0.736173  0.008697\n",
              "강동구길동     1174068500    강동구     길동  ...  300.591814  0.736173  0.008697\n",
              "강동구둔촌제1동  1174069000    강동구  둔촌제1동  ...    1.754253  0.736173  0.008697\n",
              "강동구둔촌제2동  1174070000    강동구  둔촌제2동  ...  174.733797  0.736173  0.008697\n",
              "\n",
              "[425 rows x 23 columns]"
            ]
          },
          "metadata": {
            "tags": []
          },
          "execution_count": 66
        }
      ]
    },
    {
      "cell_type": "code",
      "metadata": {
        "id": "JOhKVj6_HGHY",
        "outputId": "d5d2dc79-3b8a-428a-eb4f-be8e62c7672e",
        "colab": {
          "base_uri": "https://localhost:8080/",
          "height": 1000
        }
      },
      "source": [
        "df2 = pd.merge(df.set_index('구+동'),age.set_index('구+동'),left_index=True,right_index=True)\n",
        "df2"
      ],
      "execution_count": 67,
      "outputs": [
        {
          "output_type": "execute_result",
          "data": {
            "text/html": [
              "<div>\n",
              "<style scoped>\n",
              "    .dataframe tbody tr th:only-of-type {\n",
              "        vertical-align: middle;\n",
              "    }\n",
              "\n",
              "    .dataframe tbody tr th {\n",
              "        vertical-align: top;\n",
              "    }\n",
              "\n",
              "    .dataframe thead th {\n",
              "        text-align: right;\n",
              "    }\n",
              "</style>\n",
              "<table border=\"1\" class=\"dataframe\">\n",
              "  <thead>\n",
              "    <tr style=\"text-align: right;\">\n",
              "      <th></th>\n",
              "      <th>행정동코드_x</th>\n",
              "      <th>시군구명_x</th>\n",
              "      <th>행정동명</th>\n",
              "      <th>의료시설_개수</th>\n",
              "      <th>의료시설_건축면적(㎡)</th>\n",
              "      <th>의료시설_건폐율(%)</th>\n",
              "      <th>행정동코드_y</th>\n",
              "      <th>시군구명_y</th>\n",
              "      <th>행정동(제)</th>\n",
              "      <th>행정동</th>\n",
              "      <th>인구(동)</th>\n",
              "      <th>인구(구)</th>\n",
              "      <th>합계(개소)</th>\n",
              "      <th>합계(면수)</th>\n",
              "      <th>동비율</th>\n",
              "      <th>합계(발생)</th>\n",
              "      <th>합계(검거)</th>\n",
              "      <th>검거율</th>\n",
              "      <th>동(발생)</th>\n",
              "      <th>동(검거)</th>\n",
              "      <th>동(검거율)</th>\n",
              "      <th>인구대비범죄율</th>\n",
              "      <th>자치구</th>\n",
              "      <th>동</th>\n",
              "      <th>합</th>\n",
              "    </tr>\n",
              "    <tr>\n",
              "      <th>구+동</th>\n",
              "      <th></th>\n",
              "      <th></th>\n",
              "      <th></th>\n",
              "      <th></th>\n",
              "      <th></th>\n",
              "      <th></th>\n",
              "      <th></th>\n",
              "      <th></th>\n",
              "      <th></th>\n",
              "      <th></th>\n",
              "      <th></th>\n",
              "      <th></th>\n",
              "      <th></th>\n",
              "      <th></th>\n",
              "      <th></th>\n",
              "      <th></th>\n",
              "      <th></th>\n",
              "      <th></th>\n",
              "      <th></th>\n",
              "      <th></th>\n",
              "      <th></th>\n",
              "      <th></th>\n",
              "      <th></th>\n",
              "      <th></th>\n",
              "      <th></th>\n",
              "    </tr>\n",
              "  </thead>\n",
              "  <tbody>\n",
              "    <tr>\n",
              "      <th>종로구청운효자동</th>\n",
              "      <td>1111051500</td>\n",
              "      <td>종로구</td>\n",
              "      <td>청운효자동</td>\n",
              "      <td>1.0</td>\n",
              "      <td>0.000000</td>\n",
              "      <td>0.000000</td>\n",
              "      <td>1111051500</td>\n",
              "      <td>종로구</td>\n",
              "      <td>청운효자동</td>\n",
              "      <td>청운효자동</td>\n",
              "      <td>12,855</td>\n",
              "      <td>160,520</td>\n",
              "      <td>668</td>\n",
              "      <td>4,774</td>\n",
              "      <td>0.080083</td>\n",
              "      <td>3846.0</td>\n",
              "      <td>4117.0</td>\n",
              "      <td>107.046282</td>\n",
              "      <td>308.001059</td>\n",
              "      <td>329.703682</td>\n",
              "      <td>1.070463</td>\n",
              "      <td>0.023960</td>\n",
              "      <td>종로구</td>\n",
              "      <td>청운효자동</td>\n",
              "      <td>1,115</td>\n",
              "    </tr>\n",
              "    <tr>\n",
              "      <th>종로구사직동</th>\n",
              "      <td>1111053000</td>\n",
              "      <td>종로구</td>\n",
              "      <td>사직동</td>\n",
              "      <td>2.0</td>\n",
              "      <td>104.130000</td>\n",
              "      <td>39.368600</td>\n",
              "      <td>1111053000</td>\n",
              "      <td>종로구</td>\n",
              "      <td>사직동</td>\n",
              "      <td>사직동</td>\n",
              "      <td>9,787</td>\n",
              "      <td>160,520</td>\n",
              "      <td>360</td>\n",
              "      <td>14,217</td>\n",
              "      <td>0.060971</td>\n",
              "      <td>3846.0</td>\n",
              "      <td>4117.0</td>\n",
              "      <td>107.046282</td>\n",
              "      <td>234.492911</td>\n",
              "      <td>251.015942</td>\n",
              "      <td>1.070463</td>\n",
              "      <td>0.023960</td>\n",
              "      <td>종로구</td>\n",
              "      <td>사직동</td>\n",
              "      <td>715</td>\n",
              "    </tr>\n",
              "    <tr>\n",
              "      <th>종로구삼청동</th>\n",
              "      <td>1111054000</td>\n",
              "      <td>종로구</td>\n",
              "      <td>삼청동</td>\n",
              "      <td>0.0</td>\n",
              "      <td>0.000000</td>\n",
              "      <td>0.000000</td>\n",
              "      <td>1111054000</td>\n",
              "      <td>종로구</td>\n",
              "      <td>삼청동</td>\n",
              "      <td>삼청동</td>\n",
              "      <td>2,973</td>\n",
              "      <td>160,520</td>\n",
              "      <td>169</td>\n",
              "      <td>1,853</td>\n",
              "      <td>0.018521</td>\n",
              "      <td>3846.0</td>\n",
              "      <td>4117.0</td>\n",
              "      <td>107.046282</td>\n",
              "      <td>71.231984</td>\n",
              "      <td>76.251190</td>\n",
              "      <td>1.070463</td>\n",
              "      <td>0.023960</td>\n",
              "      <td>종로구</td>\n",
              "      <td>삼청동</td>\n",
              "      <td>204</td>\n",
              "    </tr>\n",
              "    <tr>\n",
              "      <th>종로구부암동</th>\n",
              "      <td>1111055000</td>\n",
              "      <td>종로구</td>\n",
              "      <td>부암동</td>\n",
              "      <td>0.0</td>\n",
              "      <td>0.000000</td>\n",
              "      <td>0.000000</td>\n",
              "      <td>1111055000</td>\n",
              "      <td>종로구</td>\n",
              "      <td>부암동</td>\n",
              "      <td>부암동</td>\n",
              "      <td>10,421</td>\n",
              "      <td>160,520</td>\n",
              "      <td>596</td>\n",
              "      <td>3,474</td>\n",
              "      <td>0.064920</td>\n",
              "      <td>3846.0</td>\n",
              "      <td>4117.0</td>\n",
              "      <td>107.046282</td>\n",
              "      <td>249.683317</td>\n",
              "      <td>267.276707</td>\n",
              "      <td>1.070463</td>\n",
              "      <td>0.023960</td>\n",
              "      <td>종로구</td>\n",
              "      <td>부암동</td>\n",
              "      <td>805</td>\n",
              "    </tr>\n",
              "    <tr>\n",
              "      <th>종로구평창동</th>\n",
              "      <td>1111056000</td>\n",
              "      <td>종로구</td>\n",
              "      <td>평창동</td>\n",
              "      <td>1.0</td>\n",
              "      <td>2012.800000</td>\n",
              "      <td>44.220000</td>\n",
              "      <td>1111056000</td>\n",
              "      <td>종로구</td>\n",
              "      <td>평창동</td>\n",
              "      <td>평창동</td>\n",
              "      <td>18,696</td>\n",
              "      <td>160,520</td>\n",
              "      <td>1,600</td>\n",
              "      <td>9,620</td>\n",
              "      <td>0.116471</td>\n",
              "      <td>3846.0</td>\n",
              "      <td>4117.0</td>\n",
              "      <td>107.046282</td>\n",
              "      <td>447.949265</td>\n",
              "      <td>479.513033</td>\n",
              "      <td>1.070463</td>\n",
              "      <td>0.023960</td>\n",
              "      <td>종로구</td>\n",
              "      <td>평창동</td>\n",
              "      <td>1,425</td>\n",
              "    </tr>\n",
              "    <tr>\n",
              "      <th>...</th>\n",
              "      <td>...</td>\n",
              "      <td>...</td>\n",
              "      <td>...</td>\n",
              "      <td>...</td>\n",
              "      <td>...</td>\n",
              "      <td>...</td>\n",
              "      <td>...</td>\n",
              "      <td>...</td>\n",
              "      <td>...</td>\n",
              "      <td>...</td>\n",
              "      <td>...</td>\n",
              "      <td>...</td>\n",
              "      <td>...</td>\n",
              "      <td>...</td>\n",
              "      <td>...</td>\n",
              "      <td>...</td>\n",
              "      <td>...</td>\n",
              "      <td>...</td>\n",
              "      <td>...</td>\n",
              "      <td>...</td>\n",
              "      <td>...</td>\n",
              "      <td>...</td>\n",
              "      <td>...</td>\n",
              "      <td>...</td>\n",
              "      <td>...</td>\n",
              "    </tr>\n",
              "    <tr>\n",
              "      <th>강동구성내2동</th>\n",
              "      <td>1174065000</td>\n",
              "      <td>강동구</td>\n",
              "      <td>성내제2동</td>\n",
              "      <td>7.0</td>\n",
              "      <td>523.218571</td>\n",
              "      <td>46.427143</td>\n",
              "      <td>1174065000</td>\n",
              "      <td>강동구</td>\n",
              "      <td>성내제2동</td>\n",
              "      <td>성내2동</td>\n",
              "      <td>25,096</td>\n",
              "      <td>461,547</td>\n",
              "      <td>1,935</td>\n",
              "      <td>9,139</td>\n",
              "      <td>0.054374</td>\n",
              "      <td>4014.0</td>\n",
              "      <td>2955.0</td>\n",
              "      <td>73.617339</td>\n",
              "      <td>218.255874</td>\n",
              "      <td>160.674168</td>\n",
              "      <td>0.736173</td>\n",
              "      <td>0.008697</td>\n",
              "      <td>강동구</td>\n",
              "      <td>성내2동</td>\n",
              "      <td>1,142</td>\n",
              "    </tr>\n",
              "    <tr>\n",
              "      <th>강동구성내3동</th>\n",
              "      <td>1174066000</td>\n",
              "      <td>강동구</td>\n",
              "      <td>성내제3동</td>\n",
              "      <td>7.0</td>\n",
              "      <td>523.218571</td>\n",
              "      <td>46.427143</td>\n",
              "      <td>1174066000</td>\n",
              "      <td>강동구</td>\n",
              "      <td>성내제3동</td>\n",
              "      <td>성내3동</td>\n",
              "      <td>23,824</td>\n",
              "      <td>461,547</td>\n",
              "      <td>1,431</td>\n",
              "      <td>11,090</td>\n",
              "      <td>0.051618</td>\n",
              "      <td>4014.0</td>\n",
              "      <td>2955.0</td>\n",
              "      <td>73.617339</td>\n",
              "      <td>207.193495</td>\n",
              "      <td>152.530338</td>\n",
              "      <td>0.736173</td>\n",
              "      <td>0.008697</td>\n",
              "      <td>강동구</td>\n",
              "      <td>성내3동</td>\n",
              "      <td>1,440</td>\n",
              "    </tr>\n",
              "    <tr>\n",
              "      <th>강동구길동</th>\n",
              "      <td>1174068500</td>\n",
              "      <td>강동구</td>\n",
              "      <td>길동</td>\n",
              "      <td>9.0</td>\n",
              "      <td>734.660000</td>\n",
              "      <td>51.418478</td>\n",
              "      <td>1174068500</td>\n",
              "      <td>강동구</td>\n",
              "      <td>길동</td>\n",
              "      <td>길동</td>\n",
              "      <td>46,950</td>\n",
              "      <td>461,547</td>\n",
              "      <td>2,032</td>\n",
              "      <td>24,822</td>\n",
              "      <td>0.101723</td>\n",
              "      <td>4014.0</td>\n",
              "      <td>2955.0</td>\n",
              "      <td>73.617339</td>\n",
              "      <td>408.316596</td>\n",
              "      <td>300.591814</td>\n",
              "      <td>0.736173</td>\n",
              "      <td>0.008697</td>\n",
              "      <td>강동구</td>\n",
              "      <td>길동</td>\n",
              "      <td>2,798</td>\n",
              "    </tr>\n",
              "    <tr>\n",
              "      <th>강동구둔촌1동</th>\n",
              "      <td>1174069000</td>\n",
              "      <td>강동구</td>\n",
              "      <td>둔촌제1동</td>\n",
              "      <td>8.0</td>\n",
              "      <td>3078.785000</td>\n",
              "      <td>0.000000</td>\n",
              "      <td>1174069000</td>\n",
              "      <td>강동구</td>\n",
              "      <td>둔촌제1동</td>\n",
              "      <td>둔촌1동</td>\n",
              "      <td>274</td>\n",
              "      <td>461,547</td>\n",
              "      <td>21</td>\n",
              "      <td>388</td>\n",
              "      <td>0.000594</td>\n",
              "      <td>4014.0</td>\n",
              "      <td>2955.0</td>\n",
              "      <td>73.617339</td>\n",
              "      <td>2.382934</td>\n",
              "      <td>1.754253</td>\n",
              "      <td>0.736173</td>\n",
              "      <td>0.008697</td>\n",
              "      <td>강동구</td>\n",
              "      <td>둔촌1동</td>\n",
              "      <td>11</td>\n",
              "    </tr>\n",
              "    <tr>\n",
              "      <th>강동구둔촌2동</th>\n",
              "      <td>1174070000</td>\n",
              "      <td>강동구</td>\n",
              "      <td>둔촌제2동</td>\n",
              "      <td>8.0</td>\n",
              "      <td>3078.785000</td>\n",
              "      <td>0.000000</td>\n",
              "      <td>1174070000</td>\n",
              "      <td>강동구</td>\n",
              "      <td>둔촌제2동</td>\n",
              "      <td>둔촌2동</td>\n",
              "      <td>27,292</td>\n",
              "      <td>461,547</td>\n",
              "      <td>1,116</td>\n",
              "      <td>16,644</td>\n",
              "      <td>0.059132</td>\n",
              "      <td>4014.0</td>\n",
              "      <td>2955.0</td>\n",
              "      <td>73.617339</td>\n",
              "      <td>237.354133</td>\n",
              "      <td>174.733797</td>\n",
              "      <td>0.736173</td>\n",
              "      <td>0.008697</td>\n",
              "      <td>강동구</td>\n",
              "      <td>둔촌2동</td>\n",
              "      <td>2,060</td>\n",
              "    </tr>\n",
              "  </tbody>\n",
              "</table>\n",
              "<p>425 rows × 25 columns</p>\n",
              "</div>"
            ],
            "text/plain": [
              "             행정동코드_x 시군구명_x   행정동명  의료시설_개수  ...   인구대비범죄율  자치구      동      합\n",
              "구+동                                          ...                             \n",
              "종로구청운효자동  1111051500    종로구  청운효자동      1.0  ...  0.023960  종로구  청운효자동  1,115\n",
              "종로구사직동    1111053000    종로구    사직동      2.0  ...  0.023960  종로구    사직동    715\n",
              "종로구삼청동    1111054000    종로구    삼청동      0.0  ...  0.023960  종로구    삼청동    204\n",
              "종로구부암동    1111055000    종로구    부암동      0.0  ...  0.023960  종로구    부암동    805\n",
              "종로구평창동    1111056000    종로구    평창동      1.0  ...  0.023960  종로구    평창동  1,425\n",
              "...              ...    ...    ...      ...  ...       ...  ...    ...    ...\n",
              "강동구성내2동   1174065000    강동구  성내제2동      7.0  ...  0.008697  강동구   성내2동  1,142\n",
              "강동구성내3동   1174066000    강동구  성내제3동      7.0  ...  0.008697  강동구   성내3동  1,440\n",
              "강동구길동     1174068500    강동구     길동      9.0  ...  0.008697  강동구     길동  2,798\n",
              "강동구둔촌1동   1174069000    강동구  둔촌제1동      8.0  ...  0.008697  강동구   둔촌1동     11\n",
              "강동구둔촌2동   1174070000    강동구  둔촌제2동      8.0  ...  0.008697  강동구   둔촌2동  2,060\n",
              "\n",
              "[425 rows x 25 columns]"
            ]
          },
          "metadata": {
            "tags": []
          },
          "execution_count": 67
        }
      ]
    },
    {
      "cell_type": "code",
      "metadata": {
        "id": "lMU7RjVdJFTr",
        "outputId": "4133675b-86f3-482b-f028-0b94f53d3bd0",
        "colab": {
          "base_uri": "https://localhost:8080/",
          "height": 125
        }
      },
      "source": [
        "df2.reset_index(inplace=True)\n",
        "df2.columns"
      ],
      "execution_count": 70,
      "outputs": [
        {
          "output_type": "execute_result",
          "data": {
            "text/plain": [
              "Index(['level_0', 'index', '구+동', '행정동코드_x', '시군구명_x', '행정동명', '의료시설_개수',\n",
              "       '의료시설_건축면적(㎡)', '의료시설_건폐율(%)', '행정동코드_y', '시군구명_y', '행정동(제)', '행정동',\n",
              "       '인구(동)', '인구(구)', '합계(개소)', '합계(면수)', '동비율', '합계(발생)', '합계(검거)', '검거율',\n",
              "       '동(발생)', '동(검거)', '동(검거율)', '인구대비범죄율', '자치구', '동', '합'],\n",
              "      dtype='object')"
            ]
          },
          "metadata": {
            "tags": []
          },
          "execution_count": 70
        }
      ]
    },
    {
      "cell_type": "code",
      "metadata": {
        "id": "DjFRc-7KJxXk"
      },
      "source": [
        "df2.drop(['level_0', 'index', '시군구명_x', '행정동명', '행정동코드_y'],axis='columns', inplace=True)"
      ],
      "execution_count": 72,
      "outputs": []
    },
    {
      "cell_type": "code",
      "metadata": {
        "id": "ou6yzQMLJ25I"
      },
      "source": [
        "df2.drop(['구+동','시군구명_y','행정동(제)','동비율'],axis='columns', inplace=True)"
      ],
      "execution_count": 75,
      "outputs": []
    },
    {
      "cell_type": "code",
      "metadata": {
        "id": "9z6LeXUmLXqH"
      },
      "source": [
        "col = [ '의료시설_개수', '의료시설_건축면적(㎡)', '의료시설_건폐율(%)',  '합계(개소)', '합계(면수)', '합계(발생)', '합계(검거)', '검거율', '동(발생)','동(검거)', '동(검거율)', '인구대비범죄율','인구(동)','인구(구)','행정동코드_x' ,'자치구','행정동', '동', '합']"
      ],
      "execution_count": 87,
      "outputs": []
    },
    {
      "cell_type": "code",
      "metadata": {
        "id": "iGa8osqCMNpx"
      },
      "source": [
        "df2 = df2[col]"
      ],
      "execution_count": 88,
      "outputs": []
    },
    {
      "cell_type": "code",
      "metadata": {
        "id": "AGwg2ZSEMf3T",
        "outputId": "122c0c89-0eb2-4135-fb92-2becc4a57cdf",
        "colab": {
          "base_uri": "https://localhost:8080/",
          "height": 959
        }
      },
      "source": [
        "df2"
      ],
      "execution_count": 89,
      "outputs": [
        {
          "output_type": "execute_result",
          "data": {
            "text/html": [
              "<div>\n",
              "<style scoped>\n",
              "    .dataframe tbody tr th:only-of-type {\n",
              "        vertical-align: middle;\n",
              "    }\n",
              "\n",
              "    .dataframe tbody tr th {\n",
              "        vertical-align: top;\n",
              "    }\n",
              "\n",
              "    .dataframe thead th {\n",
              "        text-align: right;\n",
              "    }\n",
              "</style>\n",
              "<table border=\"1\" class=\"dataframe\">\n",
              "  <thead>\n",
              "    <tr style=\"text-align: right;\">\n",
              "      <th></th>\n",
              "      <th>의료시설_개수</th>\n",
              "      <th>의료시설_건축면적(㎡)</th>\n",
              "      <th>의료시설_건폐율(%)</th>\n",
              "      <th>합계(개소)</th>\n",
              "      <th>합계(면수)</th>\n",
              "      <th>합계(발생)</th>\n",
              "      <th>합계(검거)</th>\n",
              "      <th>검거율</th>\n",
              "      <th>동(발생)</th>\n",
              "      <th>동(검거)</th>\n",
              "      <th>동(검거율)</th>\n",
              "      <th>인구대비범죄율</th>\n",
              "      <th>인구(동)</th>\n",
              "      <th>인구(구)</th>\n",
              "      <th>행정동코드_x</th>\n",
              "      <th>자치구</th>\n",
              "      <th>행정동</th>\n",
              "      <th>동</th>\n",
              "      <th>합</th>\n",
              "    </tr>\n",
              "  </thead>\n",
              "  <tbody>\n",
              "    <tr>\n",
              "      <th>0</th>\n",
              "      <td>1.0</td>\n",
              "      <td>0.000000</td>\n",
              "      <td>0.000000</td>\n",
              "      <td>668</td>\n",
              "      <td>4,774</td>\n",
              "      <td>3846.0</td>\n",
              "      <td>4117.0</td>\n",
              "      <td>107.046282</td>\n",
              "      <td>308.001059</td>\n",
              "      <td>329.703682</td>\n",
              "      <td>1.070463</td>\n",
              "      <td>0.023960</td>\n",
              "      <td>12,855</td>\n",
              "      <td>160,520</td>\n",
              "      <td>1111051500</td>\n",
              "      <td>종로구</td>\n",
              "      <td>청운효자동</td>\n",
              "      <td>청운효자동</td>\n",
              "      <td>1,115</td>\n",
              "    </tr>\n",
              "    <tr>\n",
              "      <th>1</th>\n",
              "      <td>2.0</td>\n",
              "      <td>104.130000</td>\n",
              "      <td>39.368600</td>\n",
              "      <td>360</td>\n",
              "      <td>14,217</td>\n",
              "      <td>3846.0</td>\n",
              "      <td>4117.0</td>\n",
              "      <td>107.046282</td>\n",
              "      <td>234.492911</td>\n",
              "      <td>251.015942</td>\n",
              "      <td>1.070463</td>\n",
              "      <td>0.023960</td>\n",
              "      <td>9,787</td>\n",
              "      <td>160,520</td>\n",
              "      <td>1111053000</td>\n",
              "      <td>종로구</td>\n",
              "      <td>사직동</td>\n",
              "      <td>사직동</td>\n",
              "      <td>715</td>\n",
              "    </tr>\n",
              "    <tr>\n",
              "      <th>2</th>\n",
              "      <td>0.0</td>\n",
              "      <td>0.000000</td>\n",
              "      <td>0.000000</td>\n",
              "      <td>169</td>\n",
              "      <td>1,853</td>\n",
              "      <td>3846.0</td>\n",
              "      <td>4117.0</td>\n",
              "      <td>107.046282</td>\n",
              "      <td>71.231984</td>\n",
              "      <td>76.251190</td>\n",
              "      <td>1.070463</td>\n",
              "      <td>0.023960</td>\n",
              "      <td>2,973</td>\n",
              "      <td>160,520</td>\n",
              "      <td>1111054000</td>\n",
              "      <td>종로구</td>\n",
              "      <td>삼청동</td>\n",
              "      <td>삼청동</td>\n",
              "      <td>204</td>\n",
              "    </tr>\n",
              "    <tr>\n",
              "      <th>3</th>\n",
              "      <td>0.0</td>\n",
              "      <td>0.000000</td>\n",
              "      <td>0.000000</td>\n",
              "      <td>596</td>\n",
              "      <td>3,474</td>\n",
              "      <td>3846.0</td>\n",
              "      <td>4117.0</td>\n",
              "      <td>107.046282</td>\n",
              "      <td>249.683317</td>\n",
              "      <td>267.276707</td>\n",
              "      <td>1.070463</td>\n",
              "      <td>0.023960</td>\n",
              "      <td>10,421</td>\n",
              "      <td>160,520</td>\n",
              "      <td>1111055000</td>\n",
              "      <td>종로구</td>\n",
              "      <td>부암동</td>\n",
              "      <td>부암동</td>\n",
              "      <td>805</td>\n",
              "    </tr>\n",
              "    <tr>\n",
              "      <th>4</th>\n",
              "      <td>1.0</td>\n",
              "      <td>2012.800000</td>\n",
              "      <td>44.220000</td>\n",
              "      <td>1,600</td>\n",
              "      <td>9,620</td>\n",
              "      <td>3846.0</td>\n",
              "      <td>4117.0</td>\n",
              "      <td>107.046282</td>\n",
              "      <td>447.949265</td>\n",
              "      <td>479.513033</td>\n",
              "      <td>1.070463</td>\n",
              "      <td>0.023960</td>\n",
              "      <td>18,696</td>\n",
              "      <td>160,520</td>\n",
              "      <td>1111056000</td>\n",
              "      <td>종로구</td>\n",
              "      <td>평창동</td>\n",
              "      <td>평창동</td>\n",
              "      <td>1,425</td>\n",
              "    </tr>\n",
              "    <tr>\n",
              "      <th>...</th>\n",
              "      <td>...</td>\n",
              "      <td>...</td>\n",
              "      <td>...</td>\n",
              "      <td>...</td>\n",
              "      <td>...</td>\n",
              "      <td>...</td>\n",
              "      <td>...</td>\n",
              "      <td>...</td>\n",
              "      <td>...</td>\n",
              "      <td>...</td>\n",
              "      <td>...</td>\n",
              "      <td>...</td>\n",
              "      <td>...</td>\n",
              "      <td>...</td>\n",
              "      <td>...</td>\n",
              "      <td>...</td>\n",
              "      <td>...</td>\n",
              "      <td>...</td>\n",
              "      <td>...</td>\n",
              "    </tr>\n",
              "    <tr>\n",
              "      <th>420</th>\n",
              "      <td>7.0</td>\n",
              "      <td>523.218571</td>\n",
              "      <td>46.427143</td>\n",
              "      <td>1,935</td>\n",
              "      <td>9,139</td>\n",
              "      <td>4014.0</td>\n",
              "      <td>2955.0</td>\n",
              "      <td>73.617339</td>\n",
              "      <td>218.255874</td>\n",
              "      <td>160.674168</td>\n",
              "      <td>0.736173</td>\n",
              "      <td>0.008697</td>\n",
              "      <td>25,096</td>\n",
              "      <td>461,547</td>\n",
              "      <td>1174065000</td>\n",
              "      <td>강동구</td>\n",
              "      <td>성내2동</td>\n",
              "      <td>성내2동</td>\n",
              "      <td>1,142</td>\n",
              "    </tr>\n",
              "    <tr>\n",
              "      <th>421</th>\n",
              "      <td>7.0</td>\n",
              "      <td>523.218571</td>\n",
              "      <td>46.427143</td>\n",
              "      <td>1,431</td>\n",
              "      <td>11,090</td>\n",
              "      <td>4014.0</td>\n",
              "      <td>2955.0</td>\n",
              "      <td>73.617339</td>\n",
              "      <td>207.193495</td>\n",
              "      <td>152.530338</td>\n",
              "      <td>0.736173</td>\n",
              "      <td>0.008697</td>\n",
              "      <td>23,824</td>\n",
              "      <td>461,547</td>\n",
              "      <td>1174066000</td>\n",
              "      <td>강동구</td>\n",
              "      <td>성내3동</td>\n",
              "      <td>성내3동</td>\n",
              "      <td>1,440</td>\n",
              "    </tr>\n",
              "    <tr>\n",
              "      <th>422</th>\n",
              "      <td>9.0</td>\n",
              "      <td>734.660000</td>\n",
              "      <td>51.418478</td>\n",
              "      <td>2,032</td>\n",
              "      <td>24,822</td>\n",
              "      <td>4014.0</td>\n",
              "      <td>2955.0</td>\n",
              "      <td>73.617339</td>\n",
              "      <td>408.316596</td>\n",
              "      <td>300.591814</td>\n",
              "      <td>0.736173</td>\n",
              "      <td>0.008697</td>\n",
              "      <td>46,950</td>\n",
              "      <td>461,547</td>\n",
              "      <td>1174068500</td>\n",
              "      <td>강동구</td>\n",
              "      <td>길동</td>\n",
              "      <td>길동</td>\n",
              "      <td>2,798</td>\n",
              "    </tr>\n",
              "    <tr>\n",
              "      <th>423</th>\n",
              "      <td>8.0</td>\n",
              "      <td>3078.785000</td>\n",
              "      <td>0.000000</td>\n",
              "      <td>21</td>\n",
              "      <td>388</td>\n",
              "      <td>4014.0</td>\n",
              "      <td>2955.0</td>\n",
              "      <td>73.617339</td>\n",
              "      <td>2.382934</td>\n",
              "      <td>1.754253</td>\n",
              "      <td>0.736173</td>\n",
              "      <td>0.008697</td>\n",
              "      <td>274</td>\n",
              "      <td>461,547</td>\n",
              "      <td>1174069000</td>\n",
              "      <td>강동구</td>\n",
              "      <td>둔촌1동</td>\n",
              "      <td>둔촌1동</td>\n",
              "      <td>11</td>\n",
              "    </tr>\n",
              "    <tr>\n",
              "      <th>424</th>\n",
              "      <td>8.0</td>\n",
              "      <td>3078.785000</td>\n",
              "      <td>0.000000</td>\n",
              "      <td>1,116</td>\n",
              "      <td>16,644</td>\n",
              "      <td>4014.0</td>\n",
              "      <td>2955.0</td>\n",
              "      <td>73.617339</td>\n",
              "      <td>237.354133</td>\n",
              "      <td>174.733797</td>\n",
              "      <td>0.736173</td>\n",
              "      <td>0.008697</td>\n",
              "      <td>27,292</td>\n",
              "      <td>461,547</td>\n",
              "      <td>1174070000</td>\n",
              "      <td>강동구</td>\n",
              "      <td>둔촌2동</td>\n",
              "      <td>둔촌2동</td>\n",
              "      <td>2,060</td>\n",
              "    </tr>\n",
              "  </tbody>\n",
              "</table>\n",
              "<p>425 rows × 19 columns</p>\n",
              "</div>"
            ],
            "text/plain": [
              "     의료시설_개수  의료시설_건축면적(㎡)  의료시설_건폐율(%) 합계(개소)  ...  자치구    행정동      동      합\n",
              "0        1.0      0.000000     0.000000    668  ...  종로구  청운효자동  청운효자동  1,115\n",
              "1        2.0    104.130000    39.368600    360  ...  종로구    사직동    사직동    715\n",
              "2        0.0      0.000000     0.000000    169  ...  종로구    삼청동    삼청동    204\n",
              "3        0.0      0.000000     0.000000    596  ...  종로구    부암동    부암동    805\n",
              "4        1.0   2012.800000    44.220000  1,600  ...  종로구    평창동    평창동  1,425\n",
              "..       ...           ...          ...    ...  ...  ...    ...    ...    ...\n",
              "420      7.0    523.218571    46.427143  1,935  ...  강동구   성내2동   성내2동  1,142\n",
              "421      7.0    523.218571    46.427143  1,431  ...  강동구   성내3동   성내3동  1,440\n",
              "422      9.0    734.660000    51.418478  2,032  ...  강동구     길동     길동  2,798\n",
              "423      8.0   3078.785000     0.000000     21  ...  강동구   둔촌1동   둔촌1동     11\n",
              "424      8.0   3078.785000     0.000000  1,116  ...  강동구   둔촌2동   둔촌2동  2,060\n",
              "\n",
              "[425 rows x 19 columns]"
            ]
          },
          "metadata": {
            "tags": []
          },
          "execution_count": 89
        }
      ]
    },
    {
      "cell_type": "code",
      "metadata": {
        "id": "FdYccW7GQV14",
        "outputId": "0f0b432b-0a73-4a97-9d93-f6aa07c4f6b5",
        "colab": {
          "base_uri": "https://localhost:8080/",
          "height": 474
        }
      },
      "source": [
        "df2.info()"
      ],
      "execution_count": 102,
      "outputs": [
        {
          "output_type": "stream",
          "text": [
            "<class 'pandas.core.frame.DataFrame'>\n",
            "RangeIndex: 425 entries, 0 to 424\n",
            "Data columns (total 19 columns):\n",
            " #   Column        Non-Null Count  Dtype  \n",
            "---  ------        --------------  -----  \n",
            " 0   의료시설_개수       425 non-null    float64\n",
            " 1   의료시설_건축면적(㎡)  425 non-null    float64\n",
            " 2   의료시설_건폐율(%)   425 non-null    float64\n",
            " 3   합계(개소)        423 non-null    object \n",
            " 4   합계(면수)        423 non-null    object \n",
            " 5   합계(발생)        425 non-null    float64\n",
            " 6   합계(검거)        425 non-null    float64\n",
            " 7   검거율           425 non-null    float64\n",
            " 8   동(발생)         425 non-null    float64\n",
            " 9   동(검거)         425 non-null    float64\n",
            " 10  동(검거율)        425 non-null    float64\n",
            " 11  인구대비범죄율       425 non-null    float64\n",
            " 12  인구(동)         425 non-null    object \n",
            " 13  인구(구)         425 non-null    object \n",
            " 14  행정동코드_x       425 non-null    int64  \n",
            " 15  자치구           425 non-null    object \n",
            " 16  행정동           425 non-null    object \n",
            " 17  동             425 non-null    object \n",
            " 18  합             425 non-null    object \n",
            "dtypes: float64(10), int64(1), object(8)\n",
            "memory usage: 63.2+ KB\n"
          ],
          "name": "stdout"
        }
      ]
    },
    {
      "cell_type": "code",
      "metadata": {
        "id": "mpH1czfHPdW5"
      },
      "source": [
        "# df2.iloc[:,-1].str.replace(',', '').astype('int64')\n",
        "df2['합계(개소)']= df2['합계(개소)'].str.replace(',', '').astype('float64')\n",
        "df2['합계(면수)']= df2['합계(면수)'].str.replace(',', '').astype('float64')\n",
        "df2['합']= df2['합'].str.replace(',', '').astype('float64')\n",
        "df2['인구(동)']= df2['인구(동)'].str.replace(',', '').astype('float64')\n"
      ],
      "execution_count": 103,
      "outputs": []
    },
    {
      "cell_type": "markdown",
      "metadata": {
        "id": "Yovp3hqoTmAI"
      },
      "source": [
        "- 여의도동 / 여의동 표기 차이로 오류난 data 있음\n",
        "- 주차장 데이터는 '항동' NaN 처리\n",
        "- RandomForest 하기 위해서 null 값 떨굼"
      ]
    },
    {
      "cell_type": "code",
      "metadata": {
        "id": "Fy93conuRlP2"
      },
      "source": [
        "df2.dropna(inplace=True)"
      ],
      "execution_count": 112,
      "outputs": []
    },
    {
      "cell_type": "code",
      "metadata": {
        "id": "a53OBx5cRpHt"
      },
      "source": [
        "df2.to_pickle('/content/drive/My Drive/project/seoul_contest/의료주차범죄합친것.pkl')"
      ],
      "execution_count": 130,
      "outputs": []
    },
    {
      "cell_type": "markdown",
      "metadata": {
        "id": "mCdxcY5XT9sX"
      },
      "source": [
        "## 예측 모델링"
      ]
    },
    {
      "cell_type": "code",
      "metadata": {
        "id": "oXP8EouBPBP9"
      },
      "source": [
        "X,y_y,y_all = df2.iloc[:,:12], df2.iloc[:,-1],df2.iloc[:,12]"
      ],
      "execution_count": 114,
      "outputs": []
    },
    {
      "cell_type": "code",
      "metadata": {
        "id": "6lqIR3gYPxdP"
      },
      "source": [
        "scaler = MinMaxScaler()\n",
        "X_scaled = scaler.fit_transform(X)"
      ],
      "execution_count": 115,
      "outputs": []
    },
    {
      "cell_type": "markdown",
      "metadata": {
        "id": "FQYirRnmTPux"
      },
      "source": [
        "### target 동 전체 인구"
      ]
    },
    {
      "cell_type": "code",
      "metadata": {
        "id": "aNJVMaUZm4B6"
      },
      "source": [
        "X_train, X_test, y_train, y_test = train_test_split(X_scaled, y_y, random_state=42, test_size=0.2)"
      ],
      "execution_count": 116,
      "outputs": []
    },
    {
      "cell_type": "code",
      "metadata": {
        "id": "KA6c_JryRdU3"
      },
      "source": [
        "forest_reg = RandomForestRegressor(1000, max_depth=2, random_state=10, n_jobs=-1)"
      ],
      "execution_count": 117,
      "outputs": []
    },
    {
      "cell_type": "markdown",
      "metadata": {
        "id": "OhEqTROsTE-y"
      },
      "source": [
        "train score ( 전체 인구)"
      ]
    },
    {
      "cell_type": "code",
      "metadata": {
        "id": "wkbjje1fRSBr",
        "outputId": "fa4c7a4a-eef3-4405-b98c-85e7dfd6c7c6",
        "colab": {
          "base_uri": "https://localhost:8080/",
          "height": 34
        }
      },
      "source": [
        "forest_reg.fit(X_train, y_train)\n",
        "forest_reg.score(X_train, y_train)"
      ],
      "execution_count": 120,
      "outputs": [
        {
          "output_type": "execute_result",
          "data": {
            "text/plain": [
              "0.49817688693061457"
            ]
          },
          "metadata": {
            "tags": []
          },
          "execution_count": 120
        }
      ]
    },
    {
      "cell_type": "markdown",
      "metadata": {
        "id": "Jt7Uu9nRTA55"
      },
      "source": [
        "test score ( 전체 인구)"
      ]
    },
    {
      "cell_type": "code",
      "metadata": {
        "id": "v8xu9DUYRto5",
        "outputId": "ffa2a245-ad29-4f46-f195-d41f99aa01ea",
        "colab": {
          "base_uri": "https://localhost:8080/",
          "height": 34
        }
      },
      "source": [
        "forest_reg.score(X_test, y_test)\n",
        "forest_reg.score(X_test, y_test)\n"
      ],
      "execution_count": 121,
      "outputs": [
        {
          "output_type": "execute_result",
          "data": {
            "text/plain": [
              "0.45049000285433843"
            ]
          },
          "metadata": {
            "tags": []
          },
          "execution_count": 121
        }
      ]
    },
    {
      "cell_type": "code",
      "metadata": {
        "id": "-KeeiRCEn4hv",
        "outputId": "827fb658-ff7a-4819-ef86-8afdaaf5f4c4",
        "colab": {
          "base_uri": "https://localhost:8080/",
          "height": 34
        }
      },
      "source": [
        "from sklearn.metrics import mean_squared_error\n",
        "np.sqrt(mean_squared_error(forest_reg.predict(X_train), y_train))"
      ],
      "execution_count": 131,
      "outputs": [
        {
          "output_type": "execute_result",
          "data": {
            "text/plain": [
              "22672.93307552181"
            ]
          },
          "metadata": {
            "tags": []
          },
          "execution_count": 131
        }
      ]
    },
    {
      "cell_type": "markdown",
      "metadata": {
        "id": "Kb6RzyxsS59f"
      },
      "source": [
        "#### target : 초딩"
      ]
    },
    {
      "cell_type": "code",
      "metadata": {
        "id": "72Y9K0tNoFMi"
      },
      "source": [
        "X_train_, X_test_, y_train_, y_test_ = train_test_split(X_scaled, y_all, random_state=42, test_size=0.2)"
      ],
      "execution_count": 123,
      "outputs": []
    },
    {
      "cell_type": "markdown",
      "metadata": {
        "id": "cGaJH3VbSsHd"
      },
      "source": [
        "train score  (y:초등)"
      ]
    },
    {
      "cell_type": "code",
      "metadata": {
        "id": "k-sbwnYSScij",
        "outputId": "0fbcc233-2537-4183-a0b3-fdf136dfc157",
        "colab": {
          "base_uri": "https://localhost:8080/",
          "height": 34
        }
      },
      "source": [
        "forest_reg.fit(X_train_, y_train_)\n",
        "forest_reg.score(X_train_, y_train_)"
      ],
      "execution_count": 124,
      "outputs": [
        {
          "output_type": "execute_result",
          "data": {
            "text/plain": [
              "0.6887945599773589"
            ]
          },
          "metadata": {
            "tags": []
          },
          "execution_count": 124
        }
      ]
    },
    {
      "cell_type": "markdown",
      "metadata": {
        "id": "AndoeJfSSySB"
      },
      "source": [
        "test score  (y:초등)"
      ]
    },
    {
      "cell_type": "code",
      "metadata": {
        "id": "hLfnXCroSljV",
        "outputId": "f25e7ddc-5bea-4d48-9953-0296a405cb64",
        "colab": {
          "base_uri": "https://localhost:8080/",
          "height": 34
        }
      },
      "source": [
        "forest_reg.score(X_test_, y_test_)\n",
        "forest_reg.score(X_test_, y_test_)\n"
      ],
      "execution_count": 125,
      "outputs": [
        {
          "output_type": "execute_result",
          "data": {
            "text/plain": [
              "0.6917544959291535"
            ]
          },
          "metadata": {
            "tags": []
          },
          "execution_count": 125
        }
      ]
    },
    {
      "cell_type": "code",
      "metadata": {
        "id": "rHpWn0hoSqvP"
      },
      "source": [
        ""
      ],
      "execution_count": null,
      "outputs": []
    }
  ]
}