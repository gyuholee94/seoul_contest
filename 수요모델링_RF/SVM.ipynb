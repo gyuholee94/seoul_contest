{
  "nbformat": 4,
  "nbformat_minor": 0,
  "metadata": {
    "colab": {
      "name": "SVM.ipynb",
      "provenance": []
    },
    "kernelspec": {
      "name": "python3",
      "display_name": "Python 3"
    },
    "accelerator": "GPU"
  },
  "cells": [
    {
      "cell_type": "code",
      "metadata": {
        "id": "cUsHobO1p67c"
      },
      "source": [
        "import pandas as pd\n",
        "import numpy as np"
      ],
      "execution_count": 1,
      "outputs": []
    },
    {
      "cell_type": "code",
      "metadata": {
        "id": "wWOdHKFYp4ZJ"
      },
      "source": [
        "from sklearn.model_selection import train_test_split\n",
        "from sklearn.svm import SVC\n",
        "from sklearn.preprocessing import StandardScaler\n",
        "from sklearn.svm import LinearSVR\n",
        "from sklearn.svm import LinearSVC\n",
        "from sklearn.svm import SVR\n",
        "from sklearn.model_selection import GridSearchCV"
      ],
      "execution_count": 2,
      "outputs": []
    },
    {
      "cell_type": "code",
      "metadata": {
        "id": "UmSo1NBppemx",
        "outputId": "99591282-9805-4d86-d97c-d1398e454b8d",
        "colab": {
          "base_uri": "https://localhost:8080/",
          "height": 517
        }
      },
      "source": [
        "total = pd.read_csv('/content/drive/My Drive/서울콘/EDA_data/total.csv', index_col = 0)\n",
        "total.head()"
      ],
      "execution_count": 3,
      "outputs": [
        {
          "output_type": "execute_result",
          "data": {
            "text/html": [
              "<div>\n",
              "<style scoped>\n",
              "    .dataframe tbody tr th:only-of-type {\n",
              "        vertical-align: middle;\n",
              "    }\n",
              "\n",
              "    .dataframe tbody tr th {\n",
              "        vertical-align: top;\n",
              "    }\n",
              "\n",
              "    .dataframe thead th {\n",
              "        text-align: right;\n",
              "    }\n",
              "</style>\n",
              "<table border=\"1\" class=\"dataframe\">\n",
              "  <thead>\n",
              "    <tr style=\"text-align: right;\">\n",
              "      <th></th>\n",
              "      <th>행정동코드</th>\n",
              "      <th>시군구명</th>\n",
              "      <th>행정동명</th>\n",
              "      <th>공동주택_개수</th>\n",
              "      <th>공동주택_건축면적(㎡)</th>\n",
              "      <th>공동주택_건폐율(%)</th>\n",
              "      <th>공동주택_연면적(㎡)</th>\n",
              "      <th>공동주택_용적률(%)</th>\n",
              "      <th>공동주택_세대수</th>\n",
              "      <th>공동주택_가구수</th>\n",
              "      <th>단독주택_개수</th>\n",
              "      <th>단독주택_건축면적(㎡)</th>\n",
              "      <th>단독주택_건폐율(%)</th>\n",
              "      <th>단독주택_가구수</th>\n",
              "      <th>공장_개수</th>\n",
              "      <th>공장_건축면적(㎡)</th>\n",
              "      <th>동별총학원</th>\n",
              "      <th>동별입시학원수</th>\n",
              "      <th>버스정류장</th>\n",
              "      <th>도서관</th>\n",
              "      <th>박물관/미술관</th>\n",
              "      <th>공원</th>\n",
              "      <th>지하철역</th>\n",
              "      <th>병원수</th>\n",
              "      <th>유통개수</th>\n",
              "      <th>5~9세</th>\n",
              "      <th>10~14세</th>\n",
              "      <th>5~14세</th>\n",
              "      <th>아동 비율</th>\n",
              "    </tr>\n",
              "  </thead>\n",
              "  <tbody>\n",
              "    <tr>\n",
              "      <th>0</th>\n",
              "      <td>1111051500</td>\n",
              "      <td>종로구</td>\n",
              "      <td>청운효자동</td>\n",
              "      <td>379</td>\n",
              "      <td>125.269681</td>\n",
              "      <td>52.555743</td>\n",
              "      <td>191.928277</td>\n",
              "      <td>964.553177</td>\n",
              "      <td>7.379947</td>\n",
              "      <td>0.005277</td>\n",
              "      <td>1559.0</td>\n",
              "      <td>23.462012</td>\n",
              "      <td>13.678553</td>\n",
              "      <td>1.304041</td>\n",
              "      <td>1.0</td>\n",
              "      <td>0.0</td>\n",
              "      <td>58.380856</td>\n",
              "      <td>5.365593</td>\n",
              "      <td>25.0</td>\n",
              "      <td>3.0</td>\n",
              "      <td>1.0</td>\n",
              "      <td>0.0</td>\n",
              "      <td>0.0</td>\n",
              "      <td>6</td>\n",
              "      <td>0</td>\n",
              "      <td>1679</td>\n",
              "      <td>1178</td>\n",
              "      <td>2857</td>\n",
              "      <td>0.101799</td>\n",
              "    </tr>\n",
              "    <tr>\n",
              "      <th>1</th>\n",
              "      <td>1111053000</td>\n",
              "      <td>종로구</td>\n",
              "      <td>사직동</td>\n",
              "      <td>98</td>\n",
              "      <td>348.211020</td>\n",
              "      <td>44.991429</td>\n",
              "      <td>153.290797</td>\n",
              "      <td>3228.286531</td>\n",
              "      <td>17.010204</td>\n",
              "      <td>0.071429</td>\n",
              "      <td>946.0</td>\n",
              "      <td>12.173044</td>\n",
              "      <td>8.226060</td>\n",
              "      <td>1.180761</td>\n",
              "      <td>4.0</td>\n",
              "      <td>0.0</td>\n",
              "      <td>44.447564</td>\n",
              "      <td>4.085030</td>\n",
              "      <td>24.0</td>\n",
              "      <td>0.0</td>\n",
              "      <td>5.0</td>\n",
              "      <td>2.0</td>\n",
              "      <td>2.0</td>\n",
              "      <td>37</td>\n",
              "      <td>1</td>\n",
              "      <td>1581</td>\n",
              "      <td>1750</td>\n",
              "      <td>3331</td>\n",
              "      <td>0.099424</td>\n",
              "    </tr>\n",
              "    <tr>\n",
              "      <th>2</th>\n",
              "      <td>1111054000</td>\n",
              "      <td>종로구</td>\n",
              "      <td>삼청동</td>\n",
              "      <td>14</td>\n",
              "      <td>203.559286</td>\n",
              "      <td>34.089286</td>\n",
              "      <td>113.165714</td>\n",
              "      <td>746.249643</td>\n",
              "      <td>4.357143</td>\n",
              "      <td>0.000000</td>\n",
              "      <td>729.0</td>\n",
              "      <td>18.521756</td>\n",
              "      <td>11.591167</td>\n",
              "      <td>1.226337</td>\n",
              "      <td>2.0</td>\n",
              "      <td>0.0</td>\n",
              "      <td>13.501850</td>\n",
              "      <td>1.240911</td>\n",
              "      <td>23.0</td>\n",
              "      <td>1.0</td>\n",
              "      <td>7.0</td>\n",
              "      <td>1.0</td>\n",
              "      <td>0.0</td>\n",
              "      <td>86</td>\n",
              "      <td>0</td>\n",
              "      <td>827</td>\n",
              "      <td>809</td>\n",
              "      <td>1636</td>\n",
              "      <td>0.059029</td>\n",
              "    </tr>\n",
              "    <tr>\n",
              "      <th>3</th>\n",
              "      <td>1111055000</td>\n",
              "      <td>종로구</td>\n",
              "      <td>부암동</td>\n",
              "      <td>246</td>\n",
              "      <td>124.504472</td>\n",
              "      <td>24.580998</td>\n",
              "      <td>61.007185</td>\n",
              "      <td>902.087581</td>\n",
              "      <td>6.914634</td>\n",
              "      <td>0.069106</td>\n",
              "      <td>1109.0</td>\n",
              "      <td>33.162876</td>\n",
              "      <td>11.441231</td>\n",
              "      <td>1.220018</td>\n",
              "      <td>1.0</td>\n",
              "      <td>0.0</td>\n",
              "      <td>47.326869</td>\n",
              "      <td>4.349657</td>\n",
              "      <td>60.0</td>\n",
              "      <td>0.0</td>\n",
              "      <td>5.0</td>\n",
              "      <td>0.0</td>\n",
              "      <td>0.0</td>\n",
              "      <td>12</td>\n",
              "      <td>0</td>\n",
              "      <td>261</td>\n",
              "      <td>193</td>\n",
              "      <td>454</td>\n",
              "      <td>0.030142</td>\n",
              "    </tr>\n",
              "    <tr>\n",
              "      <th>4</th>\n",
              "      <td>1111056000</td>\n",
              "      <td>종로구</td>\n",
              "      <td>평창동</td>\n",
              "      <td>454</td>\n",
              "      <td>389.523883</td>\n",
              "      <td>20.485875</td>\n",
              "      <td>59.479189</td>\n",
              "      <td>1422.534819</td>\n",
              "      <td>8.856828</td>\n",
              "      <td>0.002203</td>\n",
              "      <td>1625.0</td>\n",
              "      <td>67.452961</td>\n",
              "      <td>15.599884</td>\n",
              "      <td>1.156923</td>\n",
              "      <td>2.0</td>\n",
              "      <td>0.0</td>\n",
              "      <td>84.907700</td>\n",
              "      <td>7.803588</td>\n",
              "      <td>34.0</td>\n",
              "      <td>1.0</td>\n",
              "      <td>6.0</td>\n",
              "      <td>0.0</td>\n",
              "      <td>0.0</td>\n",
              "      <td>65</td>\n",
              "      <td>5</td>\n",
              "      <td>398</td>\n",
              "      <td>336</td>\n",
              "      <td>734</td>\n",
              "      <td>0.029561</td>\n",
              "    </tr>\n",
              "  </tbody>\n",
              "</table>\n",
              "</div>"
            ],
            "text/plain": [
              "        행정동코드 시군구명   행정동명  공동주택_개수  ...  5~9세  10~14세  5~14세     아동 비율\n",
              "0  1111051500  종로구  청운효자동      379  ...  1679    1178   2857  0.101799\n",
              "1  1111053000  종로구    사직동       98  ...  1581    1750   3331  0.099424\n",
              "2  1111054000  종로구    삼청동       14  ...   827     809   1636  0.059029\n",
              "3  1111055000  종로구    부암동      246  ...   261     193    454  0.030142\n",
              "4  1111056000  종로구    평창동      454  ...   398     336    734  0.029561\n",
              "\n",
              "[5 rows x 29 columns]"
            ]
          },
          "metadata": {
            "tags": []
          },
          "execution_count": 3
        }
      ]
    },
    {
      "cell_type": "code",
      "metadata": {
        "id": "QmURU8kVp_Sr"
      },
      "source": [
        "y = total['5~14세']\n",
        "unnecessary = total[['행정동코드', '시군구명', '행정동명', '5~9세', '10~14세', '5~14세', '아동 비율']]\n",
        "X = total.drop(unnecessary, axis=1)"
      ],
      "execution_count": 4,
      "outputs": []
    },
    {
      "cell_type": "code",
      "metadata": {
        "id": "6x8VRpGxqBfc",
        "outputId": "ac005a8c-657a-438c-c157-4bcbd6af56bf",
        "colab": {
          "base_uri": "https://localhost:8080/",
          "height": 36
        }
      },
      "source": [
        "X_train, X_test, y_train, y_test = train_test_split(X, y, random_state=777, test_size=0.3)\n",
        "scaler = StandardScaler()\n",
        "X_train_scaled = scaler.fit_transform(X_train)\n",
        "X_train.shape, X_test.shape, y_train.shape"
      ],
      "execution_count": 5,
      "outputs": [
        {
          "output_type": "execute_result",
          "data": {
            "text/plain": [
              "((297, 22), (128, 22), (297,))"
            ]
          },
          "metadata": {
            "tags": []
          },
          "execution_count": 5
        }
      ]
    },
    {
      "cell_type": "code",
      "metadata": {
        "id": "k9-N0lTHqDan",
        "outputId": "c220dc4b-2044-452f-dce4-6842d3116271",
        "colab": {
          "base_uri": "https://localhost:8080/",
          "height": 55
        }
      },
      "source": [
        "svm_reg = SVR(kernel='linear')\n",
        "svm_reg.fit(X_train_scaled, y_train)"
      ],
      "execution_count": 6,
      "outputs": [
        {
          "output_type": "execute_result",
          "data": {
            "text/plain": [
              "SVR(C=1.0, cache_size=200, coef0=0.0, degree=3, epsilon=0.1, gamma='scale',\n",
              "    kernel='linear', max_iter=-1, shrinking=True, tol=0.001, verbose=False)"
            ]
          },
          "metadata": {
            "tags": []
          },
          "execution_count": 6
        }
      ]
    },
    {
      "cell_type": "code",
      "metadata": {
        "id": "Hw0qOikzqGN6"
      },
      "source": [
        "train_score = svm_reg.score(X_train_scaled, y_train)\n",
        "X_test_scaled = scaler.transform(X_test)\n",
        "test_score = svm_reg.score(X_test_scaled, y_test)"
      ],
      "execution_count": 7,
      "outputs": []
    },
    {
      "cell_type": "markdown",
      "metadata": {
        "id": "oXv8tZZdqihA"
      },
      "source": [
        "#GridSearch"
      ]
    },
    {
      "cell_type": "code",
      "metadata": {
        "id": "sCMxrby_qIrr",
        "outputId": "93ce28d9-6c76-442c-8615-0e8edeaecc00",
        "colab": {
          "base_uri": "https://localhost:8080/",
          "height": 55
        }
      },
      "source": [
        "svm_reg = SVR(kernel='linear')\n",
        "param_grid = [\n",
        "              {'kernel':['linear'], 'C':[10., 30., 100., 300., 1000., 3000., 10000., 30000.0]},\n",
        "              {'kernel':['rbf'], 'C':[1.0, 3.0, 10., 30., 100., 300., 1000.0]},\n",
        "              {'gamma' : [0.01, 0.03, 0.1, 0.3, 1.0, 3.0]}\n",
        "]\n",
        "svm_reg = SVR()\n",
        "grid_search = GridSearchCV(svm_reg, param_grid, cv=5, scoring = 'neg_mean_squared_error', verbose=2, n_jobs=-1)\n",
        "grid_search.fit(X_train, y_train)"
      ],
      "execution_count": null,
      "outputs": [
        {
          "output_type": "stream",
          "text": [
            "Fitting 5 folds for each of 21 candidates, totalling 105 fits\n"
          ],
          "name": "stdout"
        },
        {
          "output_type": "stream",
          "text": [
            "[Parallel(n_jobs=-1)]: Using backend LokyBackend with 2 concurrent workers.\n"
          ],
          "name": "stderr"
        }
      ]
    },
    {
      "cell_type": "code",
      "metadata": {
        "id": "8JaQ4XPdql6E"
      },
      "source": [
        "negative_mse = grid_search.best_score_\n",
        "rmse = np.sqrt(-negative_mse)\n",
        "rmse"
      ],
      "execution_count": null,
      "outputs": []
    },
    {
      "cell_type": "code",
      "metadata": {
        "id": "yFkcdpKE1SGr"
      },
      "source": [
        "grid_search.best_params_"
      ],
      "execution_count": null,
      "outputs": []
    },
    {
      "cell_type": "code",
      "metadata": {
        "id": "eh2rMV3i1UdE"
      },
      "source": [
        ""
      ],
      "execution_count": null,
      "outputs": []
    }
  ]
}